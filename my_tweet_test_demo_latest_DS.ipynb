{
  "nbformat": 4,
  "nbformat_minor": 0,
  "metadata": {
    "colab": {
      "name": "my tweet test demo_latest DS",
      "provenance": [],
      "collapsed_sections": [],
      "include_colab_link": true
    },
    "kernelspec": {
      "name": "python3",
      "display_name": "Python 3"
    },
    "language_info": {
      "name": "python"
    },
    "accelerator": "GPU",
    "widgets": {
      "application/vnd.jupyter.widget-state+json": {
        "6bb7ded37e434952968b4a8f5f683a3d": {
          "model_module": "@jupyter-widgets/controls",
          "model_name": "HBoxModel",
          "model_module_version": "1.5.0",
          "state": {
            "_view_name": "HBoxView",
            "_dom_classes": [],
            "_model_name": "HBoxModel",
            "_view_module": "@jupyter-widgets/controls",
            "_model_module_version": "1.5.0",
            "_view_count": null,
            "_view_module_version": "1.5.0",
            "box_style": "",
            "layout": "IPY_MODEL_01a697604125407a909a7987d8c4cd4e",
            "_model_module": "@jupyter-widgets/controls",
            "children": [
              "IPY_MODEL_276aa8d062ed43b5bc76b17fd81f4af7",
              "IPY_MODEL_e0736f54af7147239062cdf33cf3043e",
              "IPY_MODEL_62c19cf465ec4349b2e4f96527da4b0b"
            ]
          }
        },
        "01a697604125407a909a7987d8c4cd4e": {
          "model_module": "@jupyter-widgets/base",
          "model_name": "LayoutModel",
          "model_module_version": "1.2.0",
          "state": {
            "_view_name": "LayoutView",
            "grid_template_rows": null,
            "right": null,
            "justify_content": null,
            "_view_module": "@jupyter-widgets/base",
            "overflow": null,
            "_model_module_version": "1.2.0",
            "_view_count": null,
            "flex_flow": null,
            "width": null,
            "min_width": null,
            "border": null,
            "align_items": null,
            "bottom": null,
            "_model_module": "@jupyter-widgets/base",
            "top": null,
            "grid_column": null,
            "overflow_y": null,
            "overflow_x": null,
            "grid_auto_flow": null,
            "grid_area": null,
            "grid_template_columns": null,
            "flex": null,
            "_model_name": "LayoutModel",
            "justify_items": null,
            "grid_row": null,
            "max_height": null,
            "align_content": null,
            "visibility": null,
            "align_self": null,
            "height": null,
            "min_height": null,
            "padding": null,
            "grid_auto_rows": null,
            "grid_gap": null,
            "max_width": null,
            "order": null,
            "_view_module_version": "1.2.0",
            "grid_template_areas": null,
            "object_position": null,
            "object_fit": null,
            "grid_auto_columns": null,
            "margin": null,
            "display": null,
            "left": null
          }
        },
        "276aa8d062ed43b5bc76b17fd81f4af7": {
          "model_module": "@jupyter-widgets/controls",
          "model_name": "HTMLModel",
          "model_module_version": "1.5.0",
          "state": {
            "_view_name": "HTMLView",
            "style": "IPY_MODEL_728cfd9564a84c39af9646092d5a3d01",
            "_dom_classes": [],
            "description": "",
            "_model_name": "HTMLModel",
            "placeholder": "​",
            "_view_module": "@jupyter-widgets/controls",
            "_model_module_version": "1.5.0",
            "value": "Downloading: 100%",
            "_view_count": null,
            "_view_module_version": "1.5.0",
            "description_tooltip": null,
            "_model_module": "@jupyter-widgets/controls",
            "layout": "IPY_MODEL_1337ad1106e84ab295343377870b73e4"
          }
        },
        "e0736f54af7147239062cdf33cf3043e": {
          "model_module": "@jupyter-widgets/controls",
          "model_name": "FloatProgressModel",
          "model_module_version": "1.5.0",
          "state": {
            "_view_name": "ProgressView",
            "style": "IPY_MODEL_99df87b891a441fc821dbf7317ca3a67",
            "_dom_classes": [],
            "description": "",
            "_model_name": "FloatProgressModel",
            "bar_style": "success",
            "max": 231508,
            "_view_module": "@jupyter-widgets/controls",
            "_model_module_version": "1.5.0",
            "value": 231508,
            "_view_count": null,
            "_view_module_version": "1.5.0",
            "orientation": "horizontal",
            "min": 0,
            "description_tooltip": null,
            "_model_module": "@jupyter-widgets/controls",
            "layout": "IPY_MODEL_5b755cba4acc4cba9f518dd7a67a2401"
          }
        },
        "62c19cf465ec4349b2e4f96527da4b0b": {
          "model_module": "@jupyter-widgets/controls",
          "model_name": "HTMLModel",
          "model_module_version": "1.5.0",
          "state": {
            "_view_name": "HTMLView",
            "style": "IPY_MODEL_23d599db08ec484daba6fcb47dfeb887",
            "_dom_classes": [],
            "description": "",
            "_model_name": "HTMLModel",
            "placeholder": "​",
            "_view_module": "@jupyter-widgets/controls",
            "_model_module_version": "1.5.0",
            "value": " 226k/226k [00:00&lt;00:00, 485kB/s]",
            "_view_count": null,
            "_view_module_version": "1.5.0",
            "description_tooltip": null,
            "_model_module": "@jupyter-widgets/controls",
            "layout": "IPY_MODEL_7738a71db0184187bced61682e0d5d16"
          }
        },
        "728cfd9564a84c39af9646092d5a3d01": {
          "model_module": "@jupyter-widgets/controls",
          "model_name": "DescriptionStyleModel",
          "model_module_version": "1.5.0",
          "state": {
            "_view_name": "StyleView",
            "_model_name": "DescriptionStyleModel",
            "description_width": "",
            "_view_module": "@jupyter-widgets/base",
            "_model_module_version": "1.5.0",
            "_view_count": null,
            "_view_module_version": "1.2.0",
            "_model_module": "@jupyter-widgets/controls"
          }
        },
        "1337ad1106e84ab295343377870b73e4": {
          "model_module": "@jupyter-widgets/base",
          "model_name": "LayoutModel",
          "model_module_version": "1.2.0",
          "state": {
            "_view_name": "LayoutView",
            "grid_template_rows": null,
            "right": null,
            "justify_content": null,
            "_view_module": "@jupyter-widgets/base",
            "overflow": null,
            "_model_module_version": "1.2.0",
            "_view_count": null,
            "flex_flow": null,
            "width": null,
            "min_width": null,
            "border": null,
            "align_items": null,
            "bottom": null,
            "_model_module": "@jupyter-widgets/base",
            "top": null,
            "grid_column": null,
            "overflow_y": null,
            "overflow_x": null,
            "grid_auto_flow": null,
            "grid_area": null,
            "grid_template_columns": null,
            "flex": null,
            "_model_name": "LayoutModel",
            "justify_items": null,
            "grid_row": null,
            "max_height": null,
            "align_content": null,
            "visibility": null,
            "align_self": null,
            "height": null,
            "min_height": null,
            "padding": null,
            "grid_auto_rows": null,
            "grid_gap": null,
            "max_width": null,
            "order": null,
            "_view_module_version": "1.2.0",
            "grid_template_areas": null,
            "object_position": null,
            "object_fit": null,
            "grid_auto_columns": null,
            "margin": null,
            "display": null,
            "left": null
          }
        },
        "99df87b891a441fc821dbf7317ca3a67": {
          "model_module": "@jupyter-widgets/controls",
          "model_name": "ProgressStyleModel",
          "model_module_version": "1.5.0",
          "state": {
            "_view_name": "StyleView",
            "_model_name": "ProgressStyleModel",
            "description_width": "",
            "_view_module": "@jupyter-widgets/base",
            "_model_module_version": "1.5.0",
            "_view_count": null,
            "_view_module_version": "1.2.0",
            "bar_color": null,
            "_model_module": "@jupyter-widgets/controls"
          }
        },
        "5b755cba4acc4cba9f518dd7a67a2401": {
          "model_module": "@jupyter-widgets/base",
          "model_name": "LayoutModel",
          "model_module_version": "1.2.0",
          "state": {
            "_view_name": "LayoutView",
            "grid_template_rows": null,
            "right": null,
            "justify_content": null,
            "_view_module": "@jupyter-widgets/base",
            "overflow": null,
            "_model_module_version": "1.2.0",
            "_view_count": null,
            "flex_flow": null,
            "width": null,
            "min_width": null,
            "border": null,
            "align_items": null,
            "bottom": null,
            "_model_module": "@jupyter-widgets/base",
            "top": null,
            "grid_column": null,
            "overflow_y": null,
            "overflow_x": null,
            "grid_auto_flow": null,
            "grid_area": null,
            "grid_template_columns": null,
            "flex": null,
            "_model_name": "LayoutModel",
            "justify_items": null,
            "grid_row": null,
            "max_height": null,
            "align_content": null,
            "visibility": null,
            "align_self": null,
            "height": null,
            "min_height": null,
            "padding": null,
            "grid_auto_rows": null,
            "grid_gap": null,
            "max_width": null,
            "order": null,
            "_view_module_version": "1.2.0",
            "grid_template_areas": null,
            "object_position": null,
            "object_fit": null,
            "grid_auto_columns": null,
            "margin": null,
            "display": null,
            "left": null
          }
        },
        "23d599db08ec484daba6fcb47dfeb887": {
          "model_module": "@jupyter-widgets/controls",
          "model_name": "DescriptionStyleModel",
          "model_module_version": "1.5.0",
          "state": {
            "_view_name": "StyleView",
            "_model_name": "DescriptionStyleModel",
            "description_width": "",
            "_view_module": "@jupyter-widgets/base",
            "_model_module_version": "1.5.0",
            "_view_count": null,
            "_view_module_version": "1.2.0",
            "_model_module": "@jupyter-widgets/controls"
          }
        },
        "7738a71db0184187bced61682e0d5d16": {
          "model_module": "@jupyter-widgets/base",
          "model_name": "LayoutModel",
          "model_module_version": "1.2.0",
          "state": {
            "_view_name": "LayoutView",
            "grid_template_rows": null,
            "right": null,
            "justify_content": null,
            "_view_module": "@jupyter-widgets/base",
            "overflow": null,
            "_model_module_version": "1.2.0",
            "_view_count": null,
            "flex_flow": null,
            "width": null,
            "min_width": null,
            "border": null,
            "align_items": null,
            "bottom": null,
            "_model_module": "@jupyter-widgets/base",
            "top": null,
            "grid_column": null,
            "overflow_y": null,
            "overflow_x": null,
            "grid_auto_flow": null,
            "grid_area": null,
            "grid_template_columns": null,
            "flex": null,
            "_model_name": "LayoutModel",
            "justify_items": null,
            "grid_row": null,
            "max_height": null,
            "align_content": null,
            "visibility": null,
            "align_self": null,
            "height": null,
            "min_height": null,
            "padding": null,
            "grid_auto_rows": null,
            "grid_gap": null,
            "max_width": null,
            "order": null,
            "_view_module_version": "1.2.0",
            "grid_template_areas": null,
            "object_position": null,
            "object_fit": null,
            "grid_auto_columns": null,
            "margin": null,
            "display": null,
            "left": null
          }
        },
        "dd8422af0ae34c0295e96c071541857a": {
          "model_module": "@jupyter-widgets/controls",
          "model_name": "HBoxModel",
          "model_module_version": "1.5.0",
          "state": {
            "_view_name": "HBoxView",
            "_dom_classes": [],
            "_model_name": "HBoxModel",
            "_view_module": "@jupyter-widgets/controls",
            "_model_module_version": "1.5.0",
            "_view_count": null,
            "_view_module_version": "1.5.0",
            "box_style": "",
            "layout": "IPY_MODEL_a500e86bc8834f1b912fc4ac9dd02e64",
            "_model_module": "@jupyter-widgets/controls",
            "children": [
              "IPY_MODEL_97060c8d394246078e5f4a8fe0e6be9f",
              "IPY_MODEL_7f937cb8d144492b9033b21e1e4b1698",
              "IPY_MODEL_efa381612cd3488db171461c0c14997f"
            ]
          }
        },
        "a500e86bc8834f1b912fc4ac9dd02e64": {
          "model_module": "@jupyter-widgets/base",
          "model_name": "LayoutModel",
          "model_module_version": "1.2.0",
          "state": {
            "_view_name": "LayoutView",
            "grid_template_rows": null,
            "right": null,
            "justify_content": null,
            "_view_module": "@jupyter-widgets/base",
            "overflow": null,
            "_model_module_version": "1.2.0",
            "_view_count": null,
            "flex_flow": null,
            "width": null,
            "min_width": null,
            "border": null,
            "align_items": null,
            "bottom": null,
            "_model_module": "@jupyter-widgets/base",
            "top": null,
            "grid_column": null,
            "overflow_y": null,
            "overflow_x": null,
            "grid_auto_flow": null,
            "grid_area": null,
            "grid_template_columns": null,
            "flex": null,
            "_model_name": "LayoutModel",
            "justify_items": null,
            "grid_row": null,
            "max_height": null,
            "align_content": null,
            "visibility": null,
            "align_self": null,
            "height": null,
            "min_height": null,
            "padding": null,
            "grid_auto_rows": null,
            "grid_gap": null,
            "max_width": null,
            "order": null,
            "_view_module_version": "1.2.0",
            "grid_template_areas": null,
            "object_position": null,
            "object_fit": null,
            "grid_auto_columns": null,
            "margin": null,
            "display": null,
            "left": null
          }
        },
        "97060c8d394246078e5f4a8fe0e6be9f": {
          "model_module": "@jupyter-widgets/controls",
          "model_name": "HTMLModel",
          "model_module_version": "1.5.0",
          "state": {
            "_view_name": "HTMLView",
            "style": "IPY_MODEL_5e4dec8e80c449ca88008963ef6ebf1a",
            "_dom_classes": [],
            "description": "",
            "_model_name": "HTMLModel",
            "placeholder": "​",
            "_view_module": "@jupyter-widgets/controls",
            "_model_module_version": "1.5.0",
            "value": "Downloading: 100%",
            "_view_count": null,
            "_view_module_version": "1.5.0",
            "description_tooltip": null,
            "_model_module": "@jupyter-widgets/controls",
            "layout": "IPY_MODEL_51cb32617f6d44d9a8a9b28c9a745ee3"
          }
        },
        "7f937cb8d144492b9033b21e1e4b1698": {
          "model_module": "@jupyter-widgets/controls",
          "model_name": "FloatProgressModel",
          "model_module_version": "1.5.0",
          "state": {
            "_view_name": "ProgressView",
            "style": "IPY_MODEL_c06cd17272164452851555def57bf5ee",
            "_dom_classes": [],
            "description": "",
            "_model_name": "FloatProgressModel",
            "bar_style": "success",
            "max": 28,
            "_view_module": "@jupyter-widgets/controls",
            "_model_module_version": "1.5.0",
            "value": 28,
            "_view_count": null,
            "_view_module_version": "1.5.0",
            "orientation": "horizontal",
            "min": 0,
            "description_tooltip": null,
            "_model_module": "@jupyter-widgets/controls",
            "layout": "IPY_MODEL_14c54230ee8b42ba98ad8b6d6f361ab7"
          }
        },
        "efa381612cd3488db171461c0c14997f": {
          "model_module": "@jupyter-widgets/controls",
          "model_name": "HTMLModel",
          "model_module_version": "1.5.0",
          "state": {
            "_view_name": "HTMLView",
            "style": "IPY_MODEL_8d875788d12b4e26a0d7e01c01489a65",
            "_dom_classes": [],
            "description": "",
            "_model_name": "HTMLModel",
            "placeholder": "​",
            "_view_module": "@jupyter-widgets/controls",
            "_model_module_version": "1.5.0",
            "value": " 28.0/28.0 [00:00&lt;00:00, 633B/s]",
            "_view_count": null,
            "_view_module_version": "1.5.0",
            "description_tooltip": null,
            "_model_module": "@jupyter-widgets/controls",
            "layout": "IPY_MODEL_8c896d3d52534d1ea98909f256275891"
          }
        },
        "5e4dec8e80c449ca88008963ef6ebf1a": {
          "model_module": "@jupyter-widgets/controls",
          "model_name": "DescriptionStyleModel",
          "model_module_version": "1.5.0",
          "state": {
            "_view_name": "StyleView",
            "_model_name": "DescriptionStyleModel",
            "description_width": "",
            "_view_module": "@jupyter-widgets/base",
            "_model_module_version": "1.5.0",
            "_view_count": null,
            "_view_module_version": "1.2.0",
            "_model_module": "@jupyter-widgets/controls"
          }
        },
        "51cb32617f6d44d9a8a9b28c9a745ee3": {
          "model_module": "@jupyter-widgets/base",
          "model_name": "LayoutModel",
          "model_module_version": "1.2.0",
          "state": {
            "_view_name": "LayoutView",
            "grid_template_rows": null,
            "right": null,
            "justify_content": null,
            "_view_module": "@jupyter-widgets/base",
            "overflow": null,
            "_model_module_version": "1.2.0",
            "_view_count": null,
            "flex_flow": null,
            "width": null,
            "min_width": null,
            "border": null,
            "align_items": null,
            "bottom": null,
            "_model_module": "@jupyter-widgets/base",
            "top": null,
            "grid_column": null,
            "overflow_y": null,
            "overflow_x": null,
            "grid_auto_flow": null,
            "grid_area": null,
            "grid_template_columns": null,
            "flex": null,
            "_model_name": "LayoutModel",
            "justify_items": null,
            "grid_row": null,
            "max_height": null,
            "align_content": null,
            "visibility": null,
            "align_self": null,
            "height": null,
            "min_height": null,
            "padding": null,
            "grid_auto_rows": null,
            "grid_gap": null,
            "max_width": null,
            "order": null,
            "_view_module_version": "1.2.0",
            "grid_template_areas": null,
            "object_position": null,
            "object_fit": null,
            "grid_auto_columns": null,
            "margin": null,
            "display": null,
            "left": null
          }
        },
        "c06cd17272164452851555def57bf5ee": {
          "model_module": "@jupyter-widgets/controls",
          "model_name": "ProgressStyleModel",
          "model_module_version": "1.5.0",
          "state": {
            "_view_name": "StyleView",
            "_model_name": "ProgressStyleModel",
            "description_width": "",
            "_view_module": "@jupyter-widgets/base",
            "_model_module_version": "1.5.0",
            "_view_count": null,
            "_view_module_version": "1.2.0",
            "bar_color": null,
            "_model_module": "@jupyter-widgets/controls"
          }
        },
        "14c54230ee8b42ba98ad8b6d6f361ab7": {
          "model_module": "@jupyter-widgets/base",
          "model_name": "LayoutModel",
          "model_module_version": "1.2.0",
          "state": {
            "_view_name": "LayoutView",
            "grid_template_rows": null,
            "right": null,
            "justify_content": null,
            "_view_module": "@jupyter-widgets/base",
            "overflow": null,
            "_model_module_version": "1.2.0",
            "_view_count": null,
            "flex_flow": null,
            "width": null,
            "min_width": null,
            "border": null,
            "align_items": null,
            "bottom": null,
            "_model_module": "@jupyter-widgets/base",
            "top": null,
            "grid_column": null,
            "overflow_y": null,
            "overflow_x": null,
            "grid_auto_flow": null,
            "grid_area": null,
            "grid_template_columns": null,
            "flex": null,
            "_model_name": "LayoutModel",
            "justify_items": null,
            "grid_row": null,
            "max_height": null,
            "align_content": null,
            "visibility": null,
            "align_self": null,
            "height": null,
            "min_height": null,
            "padding": null,
            "grid_auto_rows": null,
            "grid_gap": null,
            "max_width": null,
            "order": null,
            "_view_module_version": "1.2.0",
            "grid_template_areas": null,
            "object_position": null,
            "object_fit": null,
            "grid_auto_columns": null,
            "margin": null,
            "display": null,
            "left": null
          }
        },
        "8d875788d12b4e26a0d7e01c01489a65": {
          "model_module": "@jupyter-widgets/controls",
          "model_name": "DescriptionStyleModel",
          "model_module_version": "1.5.0",
          "state": {
            "_view_name": "StyleView",
            "_model_name": "DescriptionStyleModel",
            "description_width": "",
            "_view_module": "@jupyter-widgets/base",
            "_model_module_version": "1.5.0",
            "_view_count": null,
            "_view_module_version": "1.2.0",
            "_model_module": "@jupyter-widgets/controls"
          }
        },
        "8c896d3d52534d1ea98909f256275891": {
          "model_module": "@jupyter-widgets/base",
          "model_name": "LayoutModel",
          "model_module_version": "1.2.0",
          "state": {
            "_view_name": "LayoutView",
            "grid_template_rows": null,
            "right": null,
            "justify_content": null,
            "_view_module": "@jupyter-widgets/base",
            "overflow": null,
            "_model_module_version": "1.2.0",
            "_view_count": null,
            "flex_flow": null,
            "width": null,
            "min_width": null,
            "border": null,
            "align_items": null,
            "bottom": null,
            "_model_module": "@jupyter-widgets/base",
            "top": null,
            "grid_column": null,
            "overflow_y": null,
            "overflow_x": null,
            "grid_auto_flow": null,
            "grid_area": null,
            "grid_template_columns": null,
            "flex": null,
            "_model_name": "LayoutModel",
            "justify_items": null,
            "grid_row": null,
            "max_height": null,
            "align_content": null,
            "visibility": null,
            "align_self": null,
            "height": null,
            "min_height": null,
            "padding": null,
            "grid_auto_rows": null,
            "grid_gap": null,
            "max_width": null,
            "order": null,
            "_view_module_version": "1.2.0",
            "grid_template_areas": null,
            "object_position": null,
            "object_fit": null,
            "grid_auto_columns": null,
            "margin": null,
            "display": null,
            "left": null
          }
        },
        "5ff2cf04d1bc4e5ab6e5220c2dd43380": {
          "model_module": "@jupyter-widgets/controls",
          "model_name": "HBoxModel",
          "model_module_version": "1.5.0",
          "state": {
            "_view_name": "HBoxView",
            "_dom_classes": [],
            "_model_name": "HBoxModel",
            "_view_module": "@jupyter-widgets/controls",
            "_model_module_version": "1.5.0",
            "_view_count": null,
            "_view_module_version": "1.5.0",
            "box_style": "",
            "layout": "IPY_MODEL_046ec4b574de48149aefca637f416a40",
            "_model_module": "@jupyter-widgets/controls",
            "children": [
              "IPY_MODEL_6ab4ad64b05f44e3a29a82e98622172d",
              "IPY_MODEL_817e52b552b34dea8c2b3cf662530044",
              "IPY_MODEL_117e181980874f07ac24578b0db73bc0"
            ]
          }
        },
        "046ec4b574de48149aefca637f416a40": {
          "model_module": "@jupyter-widgets/base",
          "model_name": "LayoutModel",
          "model_module_version": "1.2.0",
          "state": {
            "_view_name": "LayoutView",
            "grid_template_rows": null,
            "right": null,
            "justify_content": null,
            "_view_module": "@jupyter-widgets/base",
            "overflow": null,
            "_model_module_version": "1.2.0",
            "_view_count": null,
            "flex_flow": null,
            "width": null,
            "min_width": null,
            "border": null,
            "align_items": null,
            "bottom": null,
            "_model_module": "@jupyter-widgets/base",
            "top": null,
            "grid_column": null,
            "overflow_y": null,
            "overflow_x": null,
            "grid_auto_flow": null,
            "grid_area": null,
            "grid_template_columns": null,
            "flex": null,
            "_model_name": "LayoutModel",
            "justify_items": null,
            "grid_row": null,
            "max_height": null,
            "align_content": null,
            "visibility": null,
            "align_self": null,
            "height": null,
            "min_height": null,
            "padding": null,
            "grid_auto_rows": null,
            "grid_gap": null,
            "max_width": null,
            "order": null,
            "_view_module_version": "1.2.0",
            "grid_template_areas": null,
            "object_position": null,
            "object_fit": null,
            "grid_auto_columns": null,
            "margin": null,
            "display": null,
            "left": null
          }
        },
        "6ab4ad64b05f44e3a29a82e98622172d": {
          "model_module": "@jupyter-widgets/controls",
          "model_name": "HTMLModel",
          "model_module_version": "1.5.0",
          "state": {
            "_view_name": "HTMLView",
            "style": "IPY_MODEL_1b93ee5bd96a485a9e36064fa70b1527",
            "_dom_classes": [],
            "description": "",
            "_model_name": "HTMLModel",
            "placeholder": "​",
            "_view_module": "@jupyter-widgets/controls",
            "_model_module_version": "1.5.0",
            "value": "Downloading: 100%",
            "_view_count": null,
            "_view_module_version": "1.5.0",
            "description_tooltip": null,
            "_model_module": "@jupyter-widgets/controls",
            "layout": "IPY_MODEL_a82cb8691d1c4d3298fe96cdf7c2d7c0"
          }
        },
        "817e52b552b34dea8c2b3cf662530044": {
          "model_module": "@jupyter-widgets/controls",
          "model_name": "FloatProgressModel",
          "model_module_version": "1.5.0",
          "state": {
            "_view_name": "ProgressView",
            "style": "IPY_MODEL_c2059cbb48944da4b3a2d1c9125e03c6",
            "_dom_classes": [],
            "description": "",
            "_model_name": "FloatProgressModel",
            "bar_style": "success",
            "max": 466062,
            "_view_module": "@jupyter-widgets/controls",
            "_model_module_version": "1.5.0",
            "value": 466062,
            "_view_count": null,
            "_view_module_version": "1.5.0",
            "orientation": "horizontal",
            "min": 0,
            "description_tooltip": null,
            "_model_module": "@jupyter-widgets/controls",
            "layout": "IPY_MODEL_9299fa7effcc44d880daead26704f3f3"
          }
        },
        "117e181980874f07ac24578b0db73bc0": {
          "model_module": "@jupyter-widgets/controls",
          "model_name": "HTMLModel",
          "model_module_version": "1.5.0",
          "state": {
            "_view_name": "HTMLView",
            "style": "IPY_MODEL_17d00b4720a144c4bf0b884dbf269d0c",
            "_dom_classes": [],
            "description": "",
            "_model_name": "HTMLModel",
            "placeholder": "​",
            "_view_module": "@jupyter-widgets/controls",
            "_model_module_version": "1.5.0",
            "value": " 455k/455k [00:00&lt;00:00, 701kB/s]",
            "_view_count": null,
            "_view_module_version": "1.5.0",
            "description_tooltip": null,
            "_model_module": "@jupyter-widgets/controls",
            "layout": "IPY_MODEL_088d91cfeef4404a89ee9a64fd260e9d"
          }
        },
        "1b93ee5bd96a485a9e36064fa70b1527": {
          "model_module": "@jupyter-widgets/controls",
          "model_name": "DescriptionStyleModel",
          "model_module_version": "1.5.0",
          "state": {
            "_view_name": "StyleView",
            "_model_name": "DescriptionStyleModel",
            "description_width": "",
            "_view_module": "@jupyter-widgets/base",
            "_model_module_version": "1.5.0",
            "_view_count": null,
            "_view_module_version": "1.2.0",
            "_model_module": "@jupyter-widgets/controls"
          }
        },
        "a82cb8691d1c4d3298fe96cdf7c2d7c0": {
          "model_module": "@jupyter-widgets/base",
          "model_name": "LayoutModel",
          "model_module_version": "1.2.0",
          "state": {
            "_view_name": "LayoutView",
            "grid_template_rows": null,
            "right": null,
            "justify_content": null,
            "_view_module": "@jupyter-widgets/base",
            "overflow": null,
            "_model_module_version": "1.2.0",
            "_view_count": null,
            "flex_flow": null,
            "width": null,
            "min_width": null,
            "border": null,
            "align_items": null,
            "bottom": null,
            "_model_module": "@jupyter-widgets/base",
            "top": null,
            "grid_column": null,
            "overflow_y": null,
            "overflow_x": null,
            "grid_auto_flow": null,
            "grid_area": null,
            "grid_template_columns": null,
            "flex": null,
            "_model_name": "LayoutModel",
            "justify_items": null,
            "grid_row": null,
            "max_height": null,
            "align_content": null,
            "visibility": null,
            "align_self": null,
            "height": null,
            "min_height": null,
            "padding": null,
            "grid_auto_rows": null,
            "grid_gap": null,
            "max_width": null,
            "order": null,
            "_view_module_version": "1.2.0",
            "grid_template_areas": null,
            "object_position": null,
            "object_fit": null,
            "grid_auto_columns": null,
            "margin": null,
            "display": null,
            "left": null
          }
        },
        "c2059cbb48944da4b3a2d1c9125e03c6": {
          "model_module": "@jupyter-widgets/controls",
          "model_name": "ProgressStyleModel",
          "model_module_version": "1.5.0",
          "state": {
            "_view_name": "StyleView",
            "_model_name": "ProgressStyleModel",
            "description_width": "",
            "_view_module": "@jupyter-widgets/base",
            "_model_module_version": "1.5.0",
            "_view_count": null,
            "_view_module_version": "1.2.0",
            "bar_color": null,
            "_model_module": "@jupyter-widgets/controls"
          }
        },
        "9299fa7effcc44d880daead26704f3f3": {
          "model_module": "@jupyter-widgets/base",
          "model_name": "LayoutModel",
          "model_module_version": "1.2.0",
          "state": {
            "_view_name": "LayoutView",
            "grid_template_rows": null,
            "right": null,
            "justify_content": null,
            "_view_module": "@jupyter-widgets/base",
            "overflow": null,
            "_model_module_version": "1.2.0",
            "_view_count": null,
            "flex_flow": null,
            "width": null,
            "min_width": null,
            "border": null,
            "align_items": null,
            "bottom": null,
            "_model_module": "@jupyter-widgets/base",
            "top": null,
            "grid_column": null,
            "overflow_y": null,
            "overflow_x": null,
            "grid_auto_flow": null,
            "grid_area": null,
            "grid_template_columns": null,
            "flex": null,
            "_model_name": "LayoutModel",
            "justify_items": null,
            "grid_row": null,
            "max_height": null,
            "align_content": null,
            "visibility": null,
            "align_self": null,
            "height": null,
            "min_height": null,
            "padding": null,
            "grid_auto_rows": null,
            "grid_gap": null,
            "max_width": null,
            "order": null,
            "_view_module_version": "1.2.0",
            "grid_template_areas": null,
            "object_position": null,
            "object_fit": null,
            "grid_auto_columns": null,
            "margin": null,
            "display": null,
            "left": null
          }
        },
        "17d00b4720a144c4bf0b884dbf269d0c": {
          "model_module": "@jupyter-widgets/controls",
          "model_name": "DescriptionStyleModel",
          "model_module_version": "1.5.0",
          "state": {
            "_view_name": "StyleView",
            "_model_name": "DescriptionStyleModel",
            "description_width": "",
            "_view_module": "@jupyter-widgets/base",
            "_model_module_version": "1.5.0",
            "_view_count": null,
            "_view_module_version": "1.2.0",
            "_model_module": "@jupyter-widgets/controls"
          }
        },
        "088d91cfeef4404a89ee9a64fd260e9d": {
          "model_module": "@jupyter-widgets/base",
          "model_name": "LayoutModel",
          "model_module_version": "1.2.0",
          "state": {
            "_view_name": "LayoutView",
            "grid_template_rows": null,
            "right": null,
            "justify_content": null,
            "_view_module": "@jupyter-widgets/base",
            "overflow": null,
            "_model_module_version": "1.2.0",
            "_view_count": null,
            "flex_flow": null,
            "width": null,
            "min_width": null,
            "border": null,
            "align_items": null,
            "bottom": null,
            "_model_module": "@jupyter-widgets/base",
            "top": null,
            "grid_column": null,
            "overflow_y": null,
            "overflow_x": null,
            "grid_auto_flow": null,
            "grid_area": null,
            "grid_template_columns": null,
            "flex": null,
            "_model_name": "LayoutModel",
            "justify_items": null,
            "grid_row": null,
            "max_height": null,
            "align_content": null,
            "visibility": null,
            "align_self": null,
            "height": null,
            "min_height": null,
            "padding": null,
            "grid_auto_rows": null,
            "grid_gap": null,
            "max_width": null,
            "order": null,
            "_view_module_version": "1.2.0",
            "grid_template_areas": null,
            "object_position": null,
            "object_fit": null,
            "grid_auto_columns": null,
            "margin": null,
            "display": null,
            "left": null
          }
        },
        "a4d6085c254240bea0dc1df48b6db546": {
          "model_module": "@jupyter-widgets/controls",
          "model_name": "HBoxModel",
          "model_module_version": "1.5.0",
          "state": {
            "_view_name": "HBoxView",
            "_dom_classes": [],
            "_model_name": "HBoxModel",
            "_view_module": "@jupyter-widgets/controls",
            "_model_module_version": "1.5.0",
            "_view_count": null,
            "_view_module_version": "1.5.0",
            "box_style": "",
            "layout": "IPY_MODEL_4b6d9f06407249dea81317ae58280616",
            "_model_module": "@jupyter-widgets/controls",
            "children": [
              "IPY_MODEL_e07890e3cc9b4da08310083033832d5e",
              "IPY_MODEL_3c3d67c223e349339eb8a2cbd5f79e50",
              "IPY_MODEL_988fbdde51c94855a0baa218e4a5d243"
            ]
          }
        },
        "4b6d9f06407249dea81317ae58280616": {
          "model_module": "@jupyter-widgets/base",
          "model_name": "LayoutModel",
          "model_module_version": "1.2.0",
          "state": {
            "_view_name": "LayoutView",
            "grid_template_rows": null,
            "right": null,
            "justify_content": null,
            "_view_module": "@jupyter-widgets/base",
            "overflow": null,
            "_model_module_version": "1.2.0",
            "_view_count": null,
            "flex_flow": null,
            "width": null,
            "min_width": null,
            "border": null,
            "align_items": null,
            "bottom": null,
            "_model_module": "@jupyter-widgets/base",
            "top": null,
            "grid_column": null,
            "overflow_y": null,
            "overflow_x": null,
            "grid_auto_flow": null,
            "grid_area": null,
            "grid_template_columns": null,
            "flex": null,
            "_model_name": "LayoutModel",
            "justify_items": null,
            "grid_row": null,
            "max_height": null,
            "align_content": null,
            "visibility": null,
            "align_self": null,
            "height": null,
            "min_height": null,
            "padding": null,
            "grid_auto_rows": null,
            "grid_gap": null,
            "max_width": null,
            "order": null,
            "_view_module_version": "1.2.0",
            "grid_template_areas": null,
            "object_position": null,
            "object_fit": null,
            "grid_auto_columns": null,
            "margin": null,
            "display": null,
            "left": null
          }
        },
        "e07890e3cc9b4da08310083033832d5e": {
          "model_module": "@jupyter-widgets/controls",
          "model_name": "HTMLModel",
          "model_module_version": "1.5.0",
          "state": {
            "_view_name": "HTMLView",
            "style": "IPY_MODEL_15d57c11d6664cb39b5bbf9cea3425ff",
            "_dom_classes": [],
            "description": "",
            "_model_name": "HTMLModel",
            "placeholder": "​",
            "_view_module": "@jupyter-widgets/controls",
            "_model_module_version": "1.5.0",
            "value": "Downloading: 100%",
            "_view_count": null,
            "_view_module_version": "1.5.0",
            "description_tooltip": null,
            "_model_module": "@jupyter-widgets/controls",
            "layout": "IPY_MODEL_22acd16c73e24855b602b2825022cd63"
          }
        },
        "3c3d67c223e349339eb8a2cbd5f79e50": {
          "model_module": "@jupyter-widgets/controls",
          "model_name": "FloatProgressModel",
          "model_module_version": "1.5.0",
          "state": {
            "_view_name": "ProgressView",
            "style": "IPY_MODEL_3dca5423f30d40f98149120cad788b4d",
            "_dom_classes": [],
            "description": "",
            "_model_name": "FloatProgressModel",
            "bar_style": "success",
            "max": 570,
            "_view_module": "@jupyter-widgets/controls",
            "_model_module_version": "1.5.0",
            "value": 570,
            "_view_count": null,
            "_view_module_version": "1.5.0",
            "orientation": "horizontal",
            "min": 0,
            "description_tooltip": null,
            "_model_module": "@jupyter-widgets/controls",
            "layout": "IPY_MODEL_af40003cea964762973ba29460700d5f"
          }
        },
        "988fbdde51c94855a0baa218e4a5d243": {
          "model_module": "@jupyter-widgets/controls",
          "model_name": "HTMLModel",
          "model_module_version": "1.5.0",
          "state": {
            "_view_name": "HTMLView",
            "style": "IPY_MODEL_4b2f1bb9216645abbb716bc99351fa17",
            "_dom_classes": [],
            "description": "",
            "_model_name": "HTMLModel",
            "placeholder": "​",
            "_view_module": "@jupyter-widgets/controls",
            "_model_module_version": "1.5.0",
            "value": " 570/570 [00:00&lt;00:00, 10.2kB/s]",
            "_view_count": null,
            "_view_module_version": "1.5.0",
            "description_tooltip": null,
            "_model_module": "@jupyter-widgets/controls",
            "layout": "IPY_MODEL_955ac70c607d40d59b14eae30ee477db"
          }
        },
        "15d57c11d6664cb39b5bbf9cea3425ff": {
          "model_module": "@jupyter-widgets/controls",
          "model_name": "DescriptionStyleModel",
          "model_module_version": "1.5.0",
          "state": {
            "_view_name": "StyleView",
            "_model_name": "DescriptionStyleModel",
            "description_width": "",
            "_view_module": "@jupyter-widgets/base",
            "_model_module_version": "1.5.0",
            "_view_count": null,
            "_view_module_version": "1.2.0",
            "_model_module": "@jupyter-widgets/controls"
          }
        },
        "22acd16c73e24855b602b2825022cd63": {
          "model_module": "@jupyter-widgets/base",
          "model_name": "LayoutModel",
          "model_module_version": "1.2.0",
          "state": {
            "_view_name": "LayoutView",
            "grid_template_rows": null,
            "right": null,
            "justify_content": null,
            "_view_module": "@jupyter-widgets/base",
            "overflow": null,
            "_model_module_version": "1.2.0",
            "_view_count": null,
            "flex_flow": null,
            "width": null,
            "min_width": null,
            "border": null,
            "align_items": null,
            "bottom": null,
            "_model_module": "@jupyter-widgets/base",
            "top": null,
            "grid_column": null,
            "overflow_y": null,
            "overflow_x": null,
            "grid_auto_flow": null,
            "grid_area": null,
            "grid_template_columns": null,
            "flex": null,
            "_model_name": "LayoutModel",
            "justify_items": null,
            "grid_row": null,
            "max_height": null,
            "align_content": null,
            "visibility": null,
            "align_self": null,
            "height": null,
            "min_height": null,
            "padding": null,
            "grid_auto_rows": null,
            "grid_gap": null,
            "max_width": null,
            "order": null,
            "_view_module_version": "1.2.0",
            "grid_template_areas": null,
            "object_position": null,
            "object_fit": null,
            "grid_auto_columns": null,
            "margin": null,
            "display": null,
            "left": null
          }
        },
        "3dca5423f30d40f98149120cad788b4d": {
          "model_module": "@jupyter-widgets/controls",
          "model_name": "ProgressStyleModel",
          "model_module_version": "1.5.0",
          "state": {
            "_view_name": "StyleView",
            "_model_name": "ProgressStyleModel",
            "description_width": "",
            "_view_module": "@jupyter-widgets/base",
            "_model_module_version": "1.5.0",
            "_view_count": null,
            "_view_module_version": "1.2.0",
            "bar_color": null,
            "_model_module": "@jupyter-widgets/controls"
          }
        },
        "af40003cea964762973ba29460700d5f": {
          "model_module": "@jupyter-widgets/base",
          "model_name": "LayoutModel",
          "model_module_version": "1.2.0",
          "state": {
            "_view_name": "LayoutView",
            "grid_template_rows": null,
            "right": null,
            "justify_content": null,
            "_view_module": "@jupyter-widgets/base",
            "overflow": null,
            "_model_module_version": "1.2.0",
            "_view_count": null,
            "flex_flow": null,
            "width": null,
            "min_width": null,
            "border": null,
            "align_items": null,
            "bottom": null,
            "_model_module": "@jupyter-widgets/base",
            "top": null,
            "grid_column": null,
            "overflow_y": null,
            "overflow_x": null,
            "grid_auto_flow": null,
            "grid_area": null,
            "grid_template_columns": null,
            "flex": null,
            "_model_name": "LayoutModel",
            "justify_items": null,
            "grid_row": null,
            "max_height": null,
            "align_content": null,
            "visibility": null,
            "align_self": null,
            "height": null,
            "min_height": null,
            "padding": null,
            "grid_auto_rows": null,
            "grid_gap": null,
            "max_width": null,
            "order": null,
            "_view_module_version": "1.2.0",
            "grid_template_areas": null,
            "object_position": null,
            "object_fit": null,
            "grid_auto_columns": null,
            "margin": null,
            "display": null,
            "left": null
          }
        },
        "4b2f1bb9216645abbb716bc99351fa17": {
          "model_module": "@jupyter-widgets/controls",
          "model_name": "DescriptionStyleModel",
          "model_module_version": "1.5.0",
          "state": {
            "_view_name": "StyleView",
            "_model_name": "DescriptionStyleModel",
            "description_width": "",
            "_view_module": "@jupyter-widgets/base",
            "_model_module_version": "1.5.0",
            "_view_count": null,
            "_view_module_version": "1.2.0",
            "_model_module": "@jupyter-widgets/controls"
          }
        },
        "955ac70c607d40d59b14eae30ee477db": {
          "model_module": "@jupyter-widgets/base",
          "model_name": "LayoutModel",
          "model_module_version": "1.2.0",
          "state": {
            "_view_name": "LayoutView",
            "grid_template_rows": null,
            "right": null,
            "justify_content": null,
            "_view_module": "@jupyter-widgets/base",
            "overflow": null,
            "_model_module_version": "1.2.0",
            "_view_count": null,
            "flex_flow": null,
            "width": null,
            "min_width": null,
            "border": null,
            "align_items": null,
            "bottom": null,
            "_model_module": "@jupyter-widgets/base",
            "top": null,
            "grid_column": null,
            "overflow_y": null,
            "overflow_x": null,
            "grid_auto_flow": null,
            "grid_area": null,
            "grid_template_columns": null,
            "flex": null,
            "_model_name": "LayoutModel",
            "justify_items": null,
            "grid_row": null,
            "max_height": null,
            "align_content": null,
            "visibility": null,
            "align_self": null,
            "height": null,
            "min_height": null,
            "padding": null,
            "grid_auto_rows": null,
            "grid_gap": null,
            "max_width": null,
            "order": null,
            "_view_module_version": "1.2.0",
            "grid_template_areas": null,
            "object_position": null,
            "object_fit": null,
            "grid_auto_columns": null,
            "margin": null,
            "display": null,
            "left": null
          }
        },
        "f6ff885ca64d4d21a9d40588c381903b": {
          "model_module": "@jupyter-widgets/controls",
          "model_name": "HBoxModel",
          "model_module_version": "1.5.0",
          "state": {
            "_view_name": "HBoxView",
            "_dom_classes": [],
            "_model_name": "HBoxModel",
            "_view_module": "@jupyter-widgets/controls",
            "_model_module_version": "1.5.0",
            "_view_count": null,
            "_view_module_version": "1.5.0",
            "box_style": "",
            "layout": "IPY_MODEL_6d67a17e594e4b199b3c23417aa20640",
            "_model_module": "@jupyter-widgets/controls",
            "children": [
              "IPY_MODEL_b4cd36964ca549259bd4fb6fc1a8f22a",
              "IPY_MODEL_20f19fe3a4de4a5f9fbf31788940f902",
              "IPY_MODEL_fdcc86640bff4cac8ac8c7a5692aae81"
            ]
          }
        },
        "6d67a17e594e4b199b3c23417aa20640": {
          "model_module": "@jupyter-widgets/base",
          "model_name": "LayoutModel",
          "model_module_version": "1.2.0",
          "state": {
            "_view_name": "LayoutView",
            "grid_template_rows": null,
            "right": null,
            "justify_content": null,
            "_view_module": "@jupyter-widgets/base",
            "overflow": null,
            "_model_module_version": "1.2.0",
            "_view_count": null,
            "flex_flow": null,
            "width": null,
            "min_width": null,
            "border": null,
            "align_items": null,
            "bottom": null,
            "_model_module": "@jupyter-widgets/base",
            "top": null,
            "grid_column": null,
            "overflow_y": null,
            "overflow_x": null,
            "grid_auto_flow": null,
            "grid_area": null,
            "grid_template_columns": null,
            "flex": null,
            "_model_name": "LayoutModel",
            "justify_items": null,
            "grid_row": null,
            "max_height": null,
            "align_content": null,
            "visibility": null,
            "align_self": null,
            "height": null,
            "min_height": null,
            "padding": null,
            "grid_auto_rows": null,
            "grid_gap": null,
            "max_width": null,
            "order": null,
            "_view_module_version": "1.2.0",
            "grid_template_areas": null,
            "object_position": null,
            "object_fit": null,
            "grid_auto_columns": null,
            "margin": null,
            "display": null,
            "left": null
          }
        },
        "b4cd36964ca549259bd4fb6fc1a8f22a": {
          "model_module": "@jupyter-widgets/controls",
          "model_name": "HTMLModel",
          "model_module_version": "1.5.0",
          "state": {
            "_view_name": "HTMLView",
            "style": "IPY_MODEL_7ac36d23b9c84f52acc0d53d16e1d74e",
            "_dom_classes": [],
            "description": "",
            "_model_name": "HTMLModel",
            "placeholder": "​",
            "_view_module": "@jupyter-widgets/controls",
            "_model_module_version": "1.5.0",
            "value": "Downloading: 100%",
            "_view_count": null,
            "_view_module_version": "1.5.0",
            "description_tooltip": null,
            "_model_module": "@jupyter-widgets/controls",
            "layout": "IPY_MODEL_9ce4cd83283f41bca5ea729088a34e6b"
          }
        },
        "20f19fe3a4de4a5f9fbf31788940f902": {
          "model_module": "@jupyter-widgets/controls",
          "model_name": "FloatProgressModel",
          "model_module_version": "1.5.0",
          "state": {
            "_view_name": "ProgressView",
            "style": "IPY_MODEL_438035b84e6d48138d41249b6c28aaa3",
            "_dom_classes": [],
            "description": "",
            "_model_name": "FloatProgressModel",
            "bar_style": "success",
            "max": 440473133,
            "_view_module": "@jupyter-widgets/controls",
            "_model_module_version": "1.5.0",
            "value": 440473133,
            "_view_count": null,
            "_view_module_version": "1.5.0",
            "orientation": "horizontal",
            "min": 0,
            "description_tooltip": null,
            "_model_module": "@jupyter-widgets/controls",
            "layout": "IPY_MODEL_5b96336be8874d8db9f00612732e575e"
          }
        },
        "fdcc86640bff4cac8ac8c7a5692aae81": {
          "model_module": "@jupyter-widgets/controls",
          "model_name": "HTMLModel",
          "model_module_version": "1.5.0",
          "state": {
            "_view_name": "HTMLView",
            "style": "IPY_MODEL_8dc5b2748034461ca052b9fc9ced2eeb",
            "_dom_classes": [],
            "description": "",
            "_model_name": "HTMLModel",
            "placeholder": "​",
            "_view_module": "@jupyter-widgets/controls",
            "_model_module_version": "1.5.0",
            "value": " 420M/420M [00:14&lt;00:00, 33.7MB/s]",
            "_view_count": null,
            "_view_module_version": "1.5.0",
            "description_tooltip": null,
            "_model_module": "@jupyter-widgets/controls",
            "layout": "IPY_MODEL_c8095bd570d04d17a939ba31a124d951"
          }
        },
        "7ac36d23b9c84f52acc0d53d16e1d74e": {
          "model_module": "@jupyter-widgets/controls",
          "model_name": "DescriptionStyleModel",
          "model_module_version": "1.5.0",
          "state": {
            "_view_name": "StyleView",
            "_model_name": "DescriptionStyleModel",
            "description_width": "",
            "_view_module": "@jupyter-widgets/base",
            "_model_module_version": "1.5.0",
            "_view_count": null,
            "_view_module_version": "1.2.0",
            "_model_module": "@jupyter-widgets/controls"
          }
        },
        "9ce4cd83283f41bca5ea729088a34e6b": {
          "model_module": "@jupyter-widgets/base",
          "model_name": "LayoutModel",
          "model_module_version": "1.2.0",
          "state": {
            "_view_name": "LayoutView",
            "grid_template_rows": null,
            "right": null,
            "justify_content": null,
            "_view_module": "@jupyter-widgets/base",
            "overflow": null,
            "_model_module_version": "1.2.0",
            "_view_count": null,
            "flex_flow": null,
            "width": null,
            "min_width": null,
            "border": null,
            "align_items": null,
            "bottom": null,
            "_model_module": "@jupyter-widgets/base",
            "top": null,
            "grid_column": null,
            "overflow_y": null,
            "overflow_x": null,
            "grid_auto_flow": null,
            "grid_area": null,
            "grid_template_columns": null,
            "flex": null,
            "_model_name": "LayoutModel",
            "justify_items": null,
            "grid_row": null,
            "max_height": null,
            "align_content": null,
            "visibility": null,
            "align_self": null,
            "height": null,
            "min_height": null,
            "padding": null,
            "grid_auto_rows": null,
            "grid_gap": null,
            "max_width": null,
            "order": null,
            "_view_module_version": "1.2.0",
            "grid_template_areas": null,
            "object_position": null,
            "object_fit": null,
            "grid_auto_columns": null,
            "margin": null,
            "display": null,
            "left": null
          }
        },
        "438035b84e6d48138d41249b6c28aaa3": {
          "model_module": "@jupyter-widgets/controls",
          "model_name": "ProgressStyleModel",
          "model_module_version": "1.5.0",
          "state": {
            "_view_name": "StyleView",
            "_model_name": "ProgressStyleModel",
            "description_width": "",
            "_view_module": "@jupyter-widgets/base",
            "_model_module_version": "1.5.0",
            "_view_count": null,
            "_view_module_version": "1.2.0",
            "bar_color": null,
            "_model_module": "@jupyter-widgets/controls"
          }
        },
        "5b96336be8874d8db9f00612732e575e": {
          "model_module": "@jupyter-widgets/base",
          "model_name": "LayoutModel",
          "model_module_version": "1.2.0",
          "state": {
            "_view_name": "LayoutView",
            "grid_template_rows": null,
            "right": null,
            "justify_content": null,
            "_view_module": "@jupyter-widgets/base",
            "overflow": null,
            "_model_module_version": "1.2.0",
            "_view_count": null,
            "flex_flow": null,
            "width": null,
            "min_width": null,
            "border": null,
            "align_items": null,
            "bottom": null,
            "_model_module": "@jupyter-widgets/base",
            "top": null,
            "grid_column": null,
            "overflow_y": null,
            "overflow_x": null,
            "grid_auto_flow": null,
            "grid_area": null,
            "grid_template_columns": null,
            "flex": null,
            "_model_name": "LayoutModel",
            "justify_items": null,
            "grid_row": null,
            "max_height": null,
            "align_content": null,
            "visibility": null,
            "align_self": null,
            "height": null,
            "min_height": null,
            "padding": null,
            "grid_auto_rows": null,
            "grid_gap": null,
            "max_width": null,
            "order": null,
            "_view_module_version": "1.2.0",
            "grid_template_areas": null,
            "object_position": null,
            "object_fit": null,
            "grid_auto_columns": null,
            "margin": null,
            "display": null,
            "left": null
          }
        },
        "8dc5b2748034461ca052b9fc9ced2eeb": {
          "model_module": "@jupyter-widgets/controls",
          "model_name": "DescriptionStyleModel",
          "model_module_version": "1.5.0",
          "state": {
            "_view_name": "StyleView",
            "_model_name": "DescriptionStyleModel",
            "description_width": "",
            "_view_module": "@jupyter-widgets/base",
            "_model_module_version": "1.5.0",
            "_view_count": null,
            "_view_module_version": "1.2.0",
            "_model_module": "@jupyter-widgets/controls"
          }
        },
        "c8095bd570d04d17a939ba31a124d951": {
          "model_module": "@jupyter-widgets/base",
          "model_name": "LayoutModel",
          "model_module_version": "1.2.0",
          "state": {
            "_view_name": "LayoutView",
            "grid_template_rows": null,
            "right": null,
            "justify_content": null,
            "_view_module": "@jupyter-widgets/base",
            "overflow": null,
            "_model_module_version": "1.2.0",
            "_view_count": null,
            "flex_flow": null,
            "width": null,
            "min_width": null,
            "border": null,
            "align_items": null,
            "bottom": null,
            "_model_module": "@jupyter-widgets/base",
            "top": null,
            "grid_column": null,
            "overflow_y": null,
            "overflow_x": null,
            "grid_auto_flow": null,
            "grid_area": null,
            "grid_template_columns": null,
            "flex": null,
            "_model_name": "LayoutModel",
            "justify_items": null,
            "grid_row": null,
            "max_height": null,
            "align_content": null,
            "visibility": null,
            "align_self": null,
            "height": null,
            "min_height": null,
            "padding": null,
            "grid_auto_rows": null,
            "grid_gap": null,
            "max_width": null,
            "order": null,
            "_view_module_version": "1.2.0",
            "grid_template_areas": null,
            "object_position": null,
            "object_fit": null,
            "grid_auto_columns": null,
            "margin": null,
            "display": null,
            "left": null
          }
        }
      }
    }
  },
  "cells": [
    {
      "cell_type": "markdown",
      "metadata": {
        "id": "view-in-github",
        "colab_type": "text"
      },
      "source": [
        "<a href=\"https://colab.research.google.com/github/NadiaMusafarudin/NadiaMusafarudin/blob/main/my_tweet_test_demo_latest_DS.ipynb\" target=\"_parent\"><img src=\"https://colab.research.google.com/assets/colab-badge.svg\" alt=\"Open In Colab\"/></a>"
      ]
    },
    {
      "cell_type": "code",
      "metadata": {
        "id": "bl5oQIlrfp3H",
        "colab": {
          "base_uri": "https://localhost:8080/",
          "height": 35
        },
        "outputId": "b319c294-5463-4d0a-8df0-0a7f9539ce45"
      },
      "source": [
        "#' ' means CPU whereas '/device:G:0' means GPU\n",
        "import tensorflow as tf\n",
        "tf.test.gpu_device_name()"
      ],
      "execution_count": 2,
      "outputs": [
        {
          "output_type": "execute_result",
          "data": {
            "application/vnd.google.colaboratory.intrinsic+json": {
              "type": "string"
            },
            "text/plain": [
              "'/device:GPU:0'"
            ]
          },
          "metadata": {},
          "execution_count": 2
        }
      ]
    },
    {
      "cell_type": "code",
      "metadata": {
        "id": "0t6T73wjfq_t",
        "colab": {
          "base_uri": "https://localhost:8080/"
        },
        "outputId": "e5969b80-4163-43b9-cdf7-7fa51b3b62b1"
      },
      "source": [
        "# memory footprint support libraries/code\n",
        "!ln -sf /opt/bin/nvidia-smi /usr/bin/nvidia-smi\n",
        "!pip install gputil\n",
        "!pip install psutil\n",
        "!pip install humanize\n",
        "import psutil\n",
        "import humanize\n",
        "import os\n",
        "import GPUtil as GPU\n",
        "GPUs = GPU.getGPUs()\n",
        "# XXX: only one GPU on Colab and isn’t guaranteed\n",
        "gpu = GPUs[0]\n",
        "def printm():\n",
        " process = psutil.Process(os.getpid())\n",
        " print(\"Gen RAM Free: \" + humanize.naturalsize( psutil.virtual_memory().available ), \" | Proc size: \" + humanize.naturalsize( process.memory_info().rss))\n",
        " print(\"GPU RAM Free: {0:.0f}MB | Used: {1:.0f}MB | Util {2:3.0f}% | Total {3:.0f}MB\".format(gpu.memoryFree, gpu.memoryUsed, gpu.memoryUtil*100, gpu.memoryTotal))\n",
        "printm() "
      ],
      "execution_count": 1,
      "outputs": [
        {
          "output_type": "stream",
          "name": "stdout",
          "text": [
            "Collecting gputil\n",
            "  Downloading GPUtil-1.4.0.tar.gz (5.5 kB)\n",
            "Building wheels for collected packages: gputil\n",
            "  Building wheel for gputil (setup.py) ... \u001b[?25l\u001b[?25hdone\n",
            "  Created wheel for gputil: filename=GPUtil-1.4.0-py3-none-any.whl size=7411 sha256=fc148722772835536bce6d6c23a8cb7fe42f859c44ddfe4127c123f674757e64\n",
            "  Stored in directory: /root/.cache/pip/wheels/6e/f8/83/534c52482d6da64622ddbf72cd93c35d2ef2881b78fd08ff0c\n",
            "Successfully built gputil\n",
            "Installing collected packages: gputil\n",
            "Successfully installed gputil-1.4.0\n",
            "Requirement already satisfied: psutil in /usr/local/lib/python3.7/dist-packages (5.4.8)\n",
            "Requirement already satisfied: humanize in /usr/local/lib/python3.7/dist-packages (0.5.1)\n",
            "Gen RAM Free: 12.7 GB  | Proc size: 117.8 MB\n",
            "GPU RAM Free: 11441MB | Used: 0MB | Util   0% | Total 11441MB\n"
          ]
        }
      ]
    },
    {
      "cell_type": "code",
      "metadata": {
        "id": "hRDYrm4ogSXd"
      },
      "source": [
        "#This code creates a new .h5 file with placeholders for training, development and test datasets. (dont run this code)\n",
        "import h5py\n",
        "from PIL import Image\n",
        "\n",
        "fileName = 'data.h5'\n",
        "numOfSamples = 10000\n",
        "with h5py.File(fileName, \"w\") as out:\n",
        "  out.create_dataset(\"X_train\",(numOfSamples,256,256,3),dtype='u1')\n",
        "  out.create_dataset(\"Y_train\",(numOfSamples,1,1),dtype='u1')      \n",
        "  out.create_dataset(\"X_dev\",(numOfSamples,256,256,3),dtype='u1')\n",
        "  out.create_dataset(\"Y_dev\",(numOfSamples,1,1),dtype='u1')      \n",
        "  out.create_dataset(\"X_test\",(numOfSamples,256,256,3),dtype='u1')\n",
        "  out.create_dataset(\"Y_test\",(numOfSamples,1,1),dtype='u1')   "
      ],
      "execution_count": null,
      "outputs": []
    },
    {
      "cell_type": "code",
      "metadata": {
        "id": "g6Q5uvLKfvQS"
      },
      "source": [
        "!kill -9 -1"
      ],
      "execution_count": null,
      "outputs": []
    },
    {
      "cell_type": "code",
      "metadata": {
        "id": "S6hTn8EiTFMR"
      },
      "source": [
        "from google.colab import drive\n",
        "from scipy import stats\n",
        "from sklearn import preprocessing\n",
        "import pandas as pd\n",
        "import matplotlib.pyplot as plt\n",
        "import seaborn as sns\n",
        "import numpy as np\n",
        "import re\n",
        "import torch\n"
      ],
      "execution_count": 3,
      "outputs": []
    },
    {
      "cell_type": "code",
      "metadata": {
        "id": "5l8CU9Msfph5"
      },
      "source": [
        "import re\n",
        "import numpy as np\n",
        "import pandas as pd\n",
        "import os, json\n",
        "import torch\n",
        "from sklearn.model_selection import train_test_split\n",
        "from sklearn.metrics import accuracy_score, precision_recall_fscore_support\n",
        "from sklearn.metrics import f1_score, accuracy_score, classification_report\n",
        "import tensorflow as tf\n",
        "import seaborn as sns\n",
        "import matplotlib.pyplot as plt"
      ],
      "execution_count": 4,
      "outputs": []
    },
    {
      "cell_type": "code",
      "metadata": {
        "id": "VyYw5YFcXVhy",
        "colab": {
          "base_uri": "https://localhost:8080/"
        },
        "outputId": "be4e7aeb-27a3-44ec-a15c-af7df187fca3"
      },
      "source": [
        "drive.mount('/content/gdrive')"
      ],
      "execution_count": 5,
      "outputs": [
        {
          "output_type": "stream",
          "name": "stdout",
          "text": [
            "Mounted at /content/gdrive\n"
          ]
        }
      ]
    },
    {
      "cell_type": "code",
      "metadata": {
        "id": "yTzXeZX_X7rZ",
        "colab": {
          "base_uri": "https://localhost:8080/"
        },
        "outputId": "5ead81d5-31ac-4f09-9de0-adc97984bc7d"
      },
      "source": [
        "!pip install torch"
      ],
      "execution_count": 6,
      "outputs": [
        {
          "output_type": "stream",
          "name": "stdout",
          "text": [
            "Requirement already satisfied: torch in /usr/local/lib/python3.7/dist-packages (1.9.0+cu111)\n",
            "Requirement already satisfied: typing-extensions in /usr/local/lib/python3.7/dist-packages (from torch) (3.7.4.3)\n"
          ]
        }
      ]
    },
    {
      "cell_type": "code",
      "metadata": {
        "id": "vgNOLeJwTPfe",
        "colab": {
          "base_uri": "https://localhost:8080/"
        },
        "outputId": "3720cf25-dbd9-4fe7-eb33-ce7ba9de7951"
      },
      "source": [
        "!pip install transformers"
      ],
      "execution_count": 7,
      "outputs": [
        {
          "output_type": "stream",
          "name": "stdout",
          "text": [
            "Collecting transformers\n",
            "  Downloading transformers-4.12.3-py3-none-any.whl (3.1 MB)\n",
            "\u001b[K     |████████████████████████████████| 3.1 MB 12.8 MB/s \n",
            "\u001b[?25hRequirement already satisfied: requests in /usr/local/lib/python3.7/dist-packages (from transformers) (2.23.0)\n",
            "Requirement already satisfied: filelock in /usr/local/lib/python3.7/dist-packages (from transformers) (3.3.0)\n",
            "Requirement already satisfied: importlib-metadata in /usr/local/lib/python3.7/dist-packages (from transformers) (4.8.1)\n",
            "Collecting tokenizers<0.11,>=0.10.1\n",
            "  Downloading tokenizers-0.10.3-cp37-cp37m-manylinux_2_5_x86_64.manylinux1_x86_64.manylinux_2_12_x86_64.manylinux2010_x86_64.whl (3.3 MB)\n",
            "\u001b[K     |████████████████████████████████| 3.3 MB 36.8 MB/s \n",
            "\u001b[?25hRequirement already satisfied: tqdm>=4.27 in /usr/local/lib/python3.7/dist-packages (from transformers) (4.62.3)\n",
            "Collecting sacremoses\n",
            "  Downloading sacremoses-0.0.46-py3-none-any.whl (895 kB)\n",
            "\u001b[K     |████████████████████████████████| 895 kB 40.0 MB/s \n",
            "\u001b[?25hRequirement already satisfied: numpy>=1.17 in /usr/local/lib/python3.7/dist-packages (from transformers) (1.19.5)\n",
            "Requirement already satisfied: regex!=2019.12.17 in /usr/local/lib/python3.7/dist-packages (from transformers) (2019.12.20)\n",
            "Collecting huggingface-hub<1.0,>=0.1.0\n",
            "  Downloading huggingface_hub-0.1.1-py3-none-any.whl (59 kB)\n",
            "\u001b[K     |████████████████████████████████| 59 kB 6.1 MB/s \n",
            "\u001b[?25hRequirement already satisfied: packaging>=20.0 in /usr/local/lib/python3.7/dist-packages (from transformers) (21.0)\n",
            "Collecting pyyaml>=5.1\n",
            "  Downloading PyYAML-6.0-cp37-cp37m-manylinux_2_5_x86_64.manylinux1_x86_64.manylinux_2_12_x86_64.manylinux2010_x86_64.whl (596 kB)\n",
            "\u001b[K     |████████████████████████████████| 596 kB 46.7 MB/s \n",
            "\u001b[?25hRequirement already satisfied: typing-extensions>=3.7.4.3 in /usr/local/lib/python3.7/dist-packages (from huggingface-hub<1.0,>=0.1.0->transformers) (3.7.4.3)\n",
            "Requirement already satisfied: pyparsing>=2.0.2 in /usr/local/lib/python3.7/dist-packages (from packaging>=20.0->transformers) (2.4.7)\n",
            "Requirement already satisfied: zipp>=0.5 in /usr/local/lib/python3.7/dist-packages (from importlib-metadata->transformers) (3.6.0)\n",
            "Requirement already satisfied: chardet<4,>=3.0.2 in /usr/local/lib/python3.7/dist-packages (from requests->transformers) (3.0.4)\n",
            "Requirement already satisfied: urllib3!=1.25.0,!=1.25.1,<1.26,>=1.21.1 in /usr/local/lib/python3.7/dist-packages (from requests->transformers) (1.24.3)\n",
            "Requirement already satisfied: idna<3,>=2.5 in /usr/local/lib/python3.7/dist-packages (from requests->transformers) (2.10)\n",
            "Requirement already satisfied: certifi>=2017.4.17 in /usr/local/lib/python3.7/dist-packages (from requests->transformers) (2021.5.30)\n",
            "Requirement already satisfied: joblib in /usr/local/lib/python3.7/dist-packages (from sacremoses->transformers) (1.0.1)\n",
            "Requirement already satisfied: click in /usr/local/lib/python3.7/dist-packages (from sacremoses->transformers) (7.1.2)\n",
            "Requirement already satisfied: six in /usr/local/lib/python3.7/dist-packages (from sacremoses->transformers) (1.15.0)\n",
            "Installing collected packages: pyyaml, tokenizers, sacremoses, huggingface-hub, transformers\n",
            "  Attempting uninstall: pyyaml\n",
            "    Found existing installation: PyYAML 3.13\n",
            "    Uninstalling PyYAML-3.13:\n",
            "      Successfully uninstalled PyYAML-3.13\n",
            "Successfully installed huggingface-hub-0.1.1 pyyaml-6.0 sacremoses-0.0.46 tokenizers-0.10.3 transformers-4.12.3\n"
          ]
        }
      ]
    },
    {
      "cell_type": "code",
      "metadata": {
        "colab": {
          "base_uri": "https://localhost:8080/"
        },
        "id": "FAXa2IYhiDwd",
        "outputId": "3581b482-3d52-4fc4-e20c-77c4b3319d3d"
      },
      "source": [
        "import torch\n",
        "\n",
        "if torch.cuda.is_available():    \n",
        "\n",
        "    device = torch.device(\"cuda\")\n",
        "\n",
        "    print('There are %d GPU(s) available.' % torch.cuda.device_count())\n",
        "\n",
        "    print('We will use the GPU:', torch.cuda.get_device_name(0))\n",
        "\n",
        "else:\n",
        "    print('No GPU available, using the CPU instead.')\n",
        "    device = torch.device(\"cpu\")"
      ],
      "execution_count": 8,
      "outputs": [
        {
          "output_type": "stream",
          "name": "stdout",
          "text": [
            "There are 1 GPU(s) available.\n",
            "We will use the GPU: Tesla K80\n"
          ]
        }
      ]
    },
    {
      "cell_type": "code",
      "metadata": {
        "colab": {
          "base_uri": "https://localhost:8080/",
          "height": 235
        },
        "id": "rJLYcT-qTP-w",
        "outputId": "0199d982-2645-4a62-9f14-b308118b4c50"
      },
      "source": [
        "missing_values = [\"n/a\", \"na\", \"--\"]\n",
        "#df = pd.read_csv('gdrive/My Drive/thesis/dataset/cucukAZ_label_test.csv')\n",
        "df = pd.read_csv('gdrive/My Drive/thesis/dataset/cucukmyAZ_latest_v3.csv') ## 0,1,2\n",
        "#df = pd.read_csv('gdrive/My Drive/thesis/dataset/cucukmyAZ_latest_v4.csv') ##-1,0,1\n",
        "\n",
        "\n",
        "df.set_index('id', inplace=True)\n",
        "df.head()\n"
      ],
      "execution_count": 9,
      "outputs": [
        {
          "output_type": "execute_result",
          "data": {
            "text/html": [
              "<div>\n",
              "<style scoped>\n",
              "    .dataframe tbody tr th:only-of-type {\n",
              "        vertical-align: middle;\n",
              "    }\n",
              "\n",
              "    .dataframe tbody tr th {\n",
              "        vertical-align: top;\n",
              "    }\n",
              "\n",
              "    .dataframe thead th {\n",
              "        text-align: right;\n",
              "    }\n",
              "</style>\n",
              "<table border=\"1\" class=\"dataframe\">\n",
              "  <thead>\n",
              "    <tr style=\"text-align: right;\">\n",
              "      <th></th>\n",
              "      <th>date</th>\n",
              "      <th>Label</th>\n",
              "      <th>tweet</th>\n",
              "      <th>language</th>\n",
              "      <th>hashtags</th>\n",
              "      <th>username</th>\n",
              "    </tr>\n",
              "    <tr>\n",
              "      <th>id</th>\n",
              "      <th></th>\n",
              "      <th></th>\n",
              "      <th></th>\n",
              "      <th></th>\n",
              "      <th></th>\n",
              "      <th></th>\n",
              "    </tr>\n",
              "  </thead>\n",
              "  <tbody>\n",
              "    <tr>\n",
              "      <th>1.420000e+18</th>\n",
              "      <td>7/27/2021 19:18</td>\n",
              "      <td>1</td>\n",
              "      <td>My nerdy nerd got vaccinated. Ã°Å¸Â¤Å“Ã°Å¸ÂÂ»...</td>\n",
              "      <td>en</td>\n",
              "      <td>['cucukmyaz', 'jkjav']</td>\n",
              "      <td>akashah</td>\n",
              "    </tr>\n",
              "    <tr>\n",
              "      <th>1.420000e+18</th>\n",
              "      <td>7/27/2021 16:08</td>\n",
              "      <td>1</td>\n",
              "      <td>Ready for 2nd dose of vaccine tomorrow #CucukM...</td>\n",
              "      <td>en</td>\n",
              "      <td>['cucukmyaz']</td>\n",
              "      <td>qeels88</td>\n",
              "    </tr>\n",
              "    <tr>\n",
              "      <th>1.420000e+18</th>\n",
              "      <td>7/27/2021 14:48</td>\n",
              "      <td>1</td>\n",
              "      <td>Done #CucukMyAZ #HartalDoktorKontrak  https://...</td>\n",
              "      <td>en</td>\n",
              "      <td>['cucukmyaz', 'hartaldoktorkontrak']</td>\n",
              "      <td>nfamohdnasir</td>\n",
              "    </tr>\n",
              "    <tr>\n",
              "      <th>1.420000e+18</th>\n",
              "      <td>7/27/2021 14:08</td>\n",
              "      <td>1</td>\n",
              "      <td>Protection installed, FULLY vaccinated!   Than...</td>\n",
              "      <td>en</td>\n",
              "      <td>['cucukmyaz']</td>\n",
              "      <td>ezypepper</td>\n",
              "    </tr>\n",
              "    <tr>\n",
              "      <th>1.420000e+18</th>\n",
              "      <td>7/27/2021 13:46</td>\n",
              "      <td>1</td>\n",
              "      <td>#CucukMyAZ 2nd dose done!  https://t.co/QirsKs...</td>\n",
              "      <td>en</td>\n",
              "      <td>['cucukmyaz']</td>\n",
              "      <td>hadiharhar</td>\n",
              "    </tr>\n",
              "  </tbody>\n",
              "</table>\n",
              "</div>"
            ],
            "text/plain": [
              "                         date  ...      username\n",
              "id                             ...              \n",
              "1.420000e+18  7/27/2021 19:18  ...       akashah\n",
              "1.420000e+18  7/27/2021 16:08  ...       qeels88\n",
              "1.420000e+18  7/27/2021 14:48  ...  nfamohdnasir\n",
              "1.420000e+18  7/27/2021 14:08  ...     ezypepper\n",
              "1.420000e+18  7/27/2021 13:46  ...    hadiharhar\n",
              "\n",
              "[5 rows x 6 columns]"
            ]
          },
          "metadata": {},
          "execution_count": 9
        }
      ]
    },
    {
      "cell_type": "code",
      "metadata": {
        "colab": {
          "base_uri": "https://localhost:8080/"
        },
        "id": "pNFHU0okwuKo",
        "outputId": "6249928d-dedc-479a-cd25-d373c1628be1"
      },
      "source": [
        "##display the datatypes\n",
        "#display(df.dtypes)\n",
        "df.dtypes "
      ],
      "execution_count": 10,
      "outputs": [
        {
          "output_type": "execute_result",
          "data": {
            "text/plain": [
              "date        object\n",
              "Label        int64\n",
              "tweet       object\n",
              "language    object\n",
              "hashtags    object\n",
              "username    object\n",
              "dtype: object"
            ]
          },
          "metadata": {},
          "execution_count": 10
        }
      ]
    },
    {
      "cell_type": "code",
      "metadata": {
        "id": "Fs1NtjSynOau"
      },
      "source": [
        "#Remove twitter handlers\n",
        "df.tweet= df.tweet.apply(lambda x:re.sub('@[^\\s]+','',x))\n",
        "\n",
        "#remove hashtags\n",
        "#df.tweet = df.tweet.apply(lambda x:re.sub(r'\\B#\\S+','',x))\n",
        "\n",
        "# Remove URLS\n",
        "df.tweet = df.tweet.apply(lambda x:re.sub(r\"http\\S+\", \"\", x))\n",
        "\n",
        "# Remove all the special characters\n",
        "df.tweet = df.tweet.apply(lambda x:' '.join(re.findall(r'\\w+', x)))\n",
        "\n",
        "#remove all single characters\n",
        "df.tweet = df.tweet.apply(lambda x:re.sub(r'\\s+[a-zA-Z]\\s+', '', x))\n",
        "\n",
        "# Substituting multiple spaces with single space\n",
        "df.tweet = df.tweet.apply(lambda x:re.sub(r'\\s+', ' ', x, flags=re.I))\n"
      ],
      "execution_count": 11,
      "outputs": []
    },
    {
      "cell_type": "code",
      "metadata": {
        "colab": {
          "base_uri": "https://localhost:8080/",
          "height": 450
        },
        "id": "kjXiS37OnzEb",
        "outputId": "560da9f9-fbc9-48f1-a2df-a4a7dfa182a1"
      },
      "source": [
        "df.head(100)\n"
      ],
      "execution_count": 12,
      "outputs": [
        {
          "output_type": "execute_result",
          "data": {
            "text/html": [
              "<div>\n",
              "<style scoped>\n",
              "    .dataframe tbody tr th:only-of-type {\n",
              "        vertical-align: middle;\n",
              "    }\n",
              "\n",
              "    .dataframe tbody tr th {\n",
              "        vertical-align: top;\n",
              "    }\n",
              "\n",
              "    .dataframe thead th {\n",
              "        text-align: right;\n",
              "    }\n",
              "</style>\n",
              "<table border=\"1\" class=\"dataframe\">\n",
              "  <thead>\n",
              "    <tr style=\"text-align: right;\">\n",
              "      <th></th>\n",
              "      <th>date</th>\n",
              "      <th>Label</th>\n",
              "      <th>tweet</th>\n",
              "      <th>language</th>\n",
              "      <th>hashtags</th>\n",
              "      <th>username</th>\n",
              "    </tr>\n",
              "    <tr>\n",
              "      <th>id</th>\n",
              "      <th></th>\n",
              "      <th></th>\n",
              "      <th></th>\n",
              "      <th></th>\n",
              "      <th></th>\n",
              "      <th></th>\n",
              "    </tr>\n",
              "  </thead>\n",
              "  <tbody>\n",
              "    <tr>\n",
              "      <th>1.420000e+18</th>\n",
              "      <td>7/27/2021 19:18</td>\n",
              "      <td>1</td>\n",
              "      <td>My nerdy nerd got vaccinated Ã Å Â Å Ã Å Â Â Ã...</td>\n",
              "      <td>en</td>\n",
              "      <td>['cucukmyaz', 'jkjav']</td>\n",
              "      <td>akashah</td>\n",
              "    </tr>\n",
              "    <tr>\n",
              "      <th>1.420000e+18</th>\n",
              "      <td>7/27/2021 16:08</td>\n",
              "      <td>1</td>\n",
              "      <td>Ready for 2nd dose of vaccine tomorrow CucukMyAZ</td>\n",
              "      <td>en</td>\n",
              "      <td>['cucukmyaz']</td>\n",
              "      <td>qeels88</td>\n",
              "    </tr>\n",
              "    <tr>\n",
              "      <th>1.420000e+18</th>\n",
              "      <td>7/27/2021 14:48</td>\n",
              "      <td>1</td>\n",
              "      <td>Done CucukMyAZ HartalDoktorKontrak</td>\n",
              "      <td>en</td>\n",
              "      <td>['cucukmyaz', 'hartaldoktorkontrak']</td>\n",
              "      <td>nfamohdnasir</td>\n",
              "    </tr>\n",
              "    <tr>\n",
              "      <th>1.420000e+18</th>\n",
              "      <td>7/27/2021 14:08</td>\n",
              "      <td>1</td>\n",
              "      <td>Protection installed FULLY vaccinated Thank yo...</td>\n",
              "      <td>en</td>\n",
              "      <td>['cucukmyaz']</td>\n",
              "      <td>ezypepper</td>\n",
              "    </tr>\n",
              "    <tr>\n",
              "      <th>1.420000e+18</th>\n",
              "      <td>7/27/2021 13:46</td>\n",
              "      <td>1</td>\n",
              "      <td>CucukMyAZ 2nd dose done</td>\n",
              "      <td>en</td>\n",
              "      <td>['cucukmyaz']</td>\n",
              "      <td>hadiharhar</td>\n",
              "    </tr>\n",
              "    <tr>\n",
              "      <th>...</th>\n",
              "      <td>...</td>\n",
              "      <td>...</td>\n",
              "      <td>...</td>\n",
              "      <td>...</td>\n",
              "      <td>...</td>\n",
              "      <td>...</td>\n",
              "    </tr>\n",
              "    <tr>\n",
              "      <th>1.420000e+18</th>\n",
              "      <td>7/26/2021 7:27</td>\n",
              "      <td>2</td>\n",
              "      <td>CucukMyAZ update 20hours in Sofelt like shit w...</td>\n",
              "      <td>en</td>\n",
              "      <td>['cucukmyaz']</td>\n",
              "      <td>Zukidesu1</td>\n",
              "    </tr>\n",
              "    <tr>\n",
              "      <th>1.420000e+18</th>\n",
              "      <td>7/26/2021 6:10</td>\n",
              "      <td>0</td>\n",
              "      <td>Why does cucukMYAZ sounds familiar Oh wait</td>\n",
              "      <td>en</td>\n",
              "      <td>['cucukmyaz']</td>\n",
              "      <td>hafizuddinsw</td>\n",
              "    </tr>\n",
              "    <tr>\n",
              "      <th>1.420000e+18</th>\n",
              "      <td>7/26/2021 6:00</td>\n",
              "      <td>1</td>\n",
              "      <td>Ã Å â â AstraZeneca Completed My Second Dose C...</td>\n",
              "      <td>en</td>\n",
              "      <td>['cucukmyaz', 'astrazeneca', 'covid_19']</td>\n",
              "      <td>robert_nch</td>\n",
              "    </tr>\n",
              "    <tr>\n",
              "      <th>1.420000e+18</th>\n",
              "      <td>7/26/2021 5:46</td>\n",
              "      <td>1</td>\n",
              "      <td>My dad took this picture and it turns out grea...</td>\n",
              "      <td>en</td>\n",
              "      <td>['cucukmyaz']</td>\n",
              "      <td>athiliya</td>\n",
              "    </tr>\n",
              "    <tr>\n",
              "      <th>1.420000e+18</th>\n",
              "      <td>7/26/2021 5:33</td>\n",
              "      <td>2</td>\n",
              "      <td>Im deaddeadass cucukMYAZ CucukMySinovac MySeja...</td>\n",
              "      <td>en</td>\n",
              "      <td>['cucukmyaz', 'cucukmysinovac', 'mysejahtera']</td>\n",
              "      <td>Akramlolo</td>\n",
              "    </tr>\n",
              "  </tbody>\n",
              "</table>\n",
              "<p>100 rows × 6 columns</p>\n",
              "</div>"
            ],
            "text/plain": [
              "                         date  ...      username\n",
              "id                             ...              \n",
              "1.420000e+18  7/27/2021 19:18  ...       akashah\n",
              "1.420000e+18  7/27/2021 16:08  ...       qeels88\n",
              "1.420000e+18  7/27/2021 14:48  ...  nfamohdnasir\n",
              "1.420000e+18  7/27/2021 14:08  ...     ezypepper\n",
              "1.420000e+18  7/27/2021 13:46  ...    hadiharhar\n",
              "...                       ...  ...           ...\n",
              "1.420000e+18   7/26/2021 7:27  ...     Zukidesu1\n",
              "1.420000e+18   7/26/2021 6:10  ...  hafizuddinsw\n",
              "1.420000e+18   7/26/2021 6:00  ...    robert_nch\n",
              "1.420000e+18   7/26/2021 5:46  ...      athiliya\n",
              "1.420000e+18   7/26/2021 5:33  ...     Akramlolo\n",
              "\n",
              "[100 rows x 6 columns]"
            ]
          },
          "metadata": {},
          "execution_count": 12
        }
      ]
    },
    {
      "cell_type": "code",
      "metadata": {
        "id": "Vvz97UpQzKux"
      },
      "source": [
        "# converting 'Label' from float to int\n",
        "#df['Label'] = df['Label'].astype(int)\n",
        "#df['Label'] = df.apply(['Label'].astype(int))\n",
        "\n",
        "#df['Label'] = df['Label'].apply(np.int64)\n",
        "\n",
        "#df['Label'] = df.apply('Label'.to_numeric)\n",
        "\n",
        "#df.apply(pd.to_numeric)"
      ],
      "execution_count": null,
      "outputs": []
    },
    {
      "cell_type": "code",
      "metadata": {
        "id": "3i5oD3PDUReE"
      },
      "source": [
        "#select useful columns\n",
        "\n",
        "train= pd.DataFrame()\n",
        "train['tweet']= df['tweet']\n",
        "train['Sentiment']=df['Label']"
      ],
      "execution_count": 13,
      "outputs": []
    },
    {
      "cell_type": "code",
      "metadata": {
        "id": "d17ppZ6NUXS7"
      },
      "source": [
        "train=train.dropna()"
      ],
      "execution_count": 14,
      "outputs": []
    },
    {
      "cell_type": "code",
      "metadata": {
        "colab": {
          "base_uri": "https://localhost:8080/"
        },
        "id": "R7Zzx1uXUazK",
        "outputId": "529ceaa1-c9de-4fcf-d7c9-7f4fc420ce00"
      },
      "source": [
        "train.isnull().sum()"
      ],
      "execution_count": 15,
      "outputs": [
        {
          "output_type": "execute_result",
          "data": {
            "text/plain": [
              "tweet        0\n",
              "Sentiment    0\n",
              "dtype: int64"
            ]
          },
          "metadata": {},
          "execution_count": 15
        }
      ]
    },
    {
      "cell_type": "code",
      "metadata": {
        "id": "w_H8rXu0UeSF"
      },
      "source": [
        "#train['Sentiment'] = train['Sentiment'].replace(['negative','neutral','positive'],[0,1,2])"
      ],
      "execution_count": null,
      "outputs": []
    },
    {
      "cell_type": "markdown",
      "metadata": {
        "id": "QIRQUph4UvKy"
      },
      "source": [
        "###importing bert\n"
      ]
    },
    {
      "cell_type": "code",
      "metadata": {
        "colab": {
          "base_uri": "https://localhost:8080/",
          "height": 162,
          "referenced_widgets": [
            "6bb7ded37e434952968b4a8f5f683a3d",
            "01a697604125407a909a7987d8c4cd4e",
            "276aa8d062ed43b5bc76b17fd81f4af7",
            "e0736f54af7147239062cdf33cf3043e",
            "62c19cf465ec4349b2e4f96527da4b0b",
            "728cfd9564a84c39af9646092d5a3d01",
            "1337ad1106e84ab295343377870b73e4",
            "99df87b891a441fc821dbf7317ca3a67",
            "5b755cba4acc4cba9f518dd7a67a2401",
            "23d599db08ec484daba6fcb47dfeb887",
            "7738a71db0184187bced61682e0d5d16",
            "dd8422af0ae34c0295e96c071541857a",
            "a500e86bc8834f1b912fc4ac9dd02e64",
            "97060c8d394246078e5f4a8fe0e6be9f",
            "7f937cb8d144492b9033b21e1e4b1698",
            "efa381612cd3488db171461c0c14997f",
            "5e4dec8e80c449ca88008963ef6ebf1a",
            "51cb32617f6d44d9a8a9b28c9a745ee3",
            "c06cd17272164452851555def57bf5ee",
            "14c54230ee8b42ba98ad8b6d6f361ab7",
            "8d875788d12b4e26a0d7e01c01489a65",
            "8c896d3d52534d1ea98909f256275891",
            "5ff2cf04d1bc4e5ab6e5220c2dd43380",
            "046ec4b574de48149aefca637f416a40",
            "6ab4ad64b05f44e3a29a82e98622172d",
            "817e52b552b34dea8c2b3cf662530044",
            "117e181980874f07ac24578b0db73bc0",
            "1b93ee5bd96a485a9e36064fa70b1527",
            "a82cb8691d1c4d3298fe96cdf7c2d7c0",
            "c2059cbb48944da4b3a2d1c9125e03c6",
            "9299fa7effcc44d880daead26704f3f3",
            "17d00b4720a144c4bf0b884dbf269d0c",
            "088d91cfeef4404a89ee9a64fd260e9d",
            "a4d6085c254240bea0dc1df48b6db546",
            "4b6d9f06407249dea81317ae58280616",
            "e07890e3cc9b4da08310083033832d5e",
            "3c3d67c223e349339eb8a2cbd5f79e50",
            "988fbdde51c94855a0baa218e4a5d243",
            "15d57c11d6664cb39b5bbf9cea3425ff",
            "22acd16c73e24855b602b2825022cd63",
            "3dca5423f30d40f98149120cad788b4d",
            "af40003cea964762973ba29460700d5f",
            "4b2f1bb9216645abbb716bc99351fa17",
            "955ac70c607d40d59b14eae30ee477db"
          ]
        },
        "id": "tIo43ZQUUyCL",
        "outputId": "5cfb8be6-bd37-43ad-e4d8-723f00d55aa5"
      },
      "source": [
        "from transformers import BertTokenizer\n",
        "\n",
        "print('Loading BERT tokenizer...')\n",
        "tokenizer = BertTokenizer.from_pretrained('bert-base-uncased', do_lower_case=True)"
      ],
      "execution_count": 16,
      "outputs": [
        {
          "output_type": "stream",
          "name": "stdout",
          "text": [
            "Loading BERT tokenizer...\n"
          ]
        },
        {
          "output_type": "display_data",
          "data": {
            "application/vnd.jupyter.widget-view+json": {
              "model_id": "6bb7ded37e434952968b4a8f5f683a3d",
              "version_minor": 0,
              "version_major": 2
            },
            "text/plain": [
              "Downloading:   0%|          | 0.00/226k [00:00<?, ?B/s]"
            ]
          },
          "metadata": {}
        },
        {
          "output_type": "display_data",
          "data": {
            "application/vnd.jupyter.widget-view+json": {
              "model_id": "dd8422af0ae34c0295e96c071541857a",
              "version_minor": 0,
              "version_major": 2
            },
            "text/plain": [
              "Downloading:   0%|          | 0.00/28.0 [00:00<?, ?B/s]"
            ]
          },
          "metadata": {}
        },
        {
          "output_type": "display_data",
          "data": {
            "application/vnd.jupyter.widget-view+json": {
              "model_id": "5ff2cf04d1bc4e5ab6e5220c2dd43380",
              "version_minor": 0,
              "version_major": 2
            },
            "text/plain": [
              "Downloading:   0%|          | 0.00/455k [00:00<?, ?B/s]"
            ]
          },
          "metadata": {}
        },
        {
          "output_type": "display_data",
          "data": {
            "application/vnd.jupyter.widget-view+json": {
              "model_id": "a4d6085c254240bea0dc1df48b6db546",
              "version_minor": 0,
              "version_major": 2
            },
            "text/plain": [
              "Downloading:   0%|          | 0.00/570 [00:00<?, ?B/s]"
            ]
          },
          "metadata": {}
        }
      ]
    },
    {
      "cell_type": "code",
      "metadata": {
        "colab": {
          "base_uri": "https://localhost:8080/"
        },
        "id": "FikQ8juSVVio",
        "outputId": "b9686aa2-3c16-43c5-cba8-85d76168f5d2"
      },
      "source": [
        "print(tokenizer.tokenize(\"Hello. This is a sample statement for visualisation purposes\"))"
      ],
      "execution_count": 17,
      "outputs": [
        {
          "output_type": "stream",
          "name": "stdout",
          "text": [
            "['hello', '.', 'this', 'is', 'a', 'sample', 'statement', 'for', 'visual', '##isation', 'purposes']\n"
          ]
        }
      ]
    },
    {
      "cell_type": "code",
      "metadata": {
        "colab": {
          "base_uri": "https://localhost:8080/"
        },
        "id": "stiGCPwiVZ6q",
        "outputId": "a3573064-44b7-4852-81f2-98d9baa1e15a"
      },
      "source": [
        "print(tokenizer.convert_tokens_to_ids(tokenizer.tokenize(\"Hello. This is a sample statement for visualisation purposes\")))"
      ],
      "execution_count": 18,
      "outputs": [
        {
          "output_type": "stream",
          "name": "stdout",
          "text": [
            "[7592, 1012, 2023, 2003, 1037, 7099, 4861, 2005, 5107, 6648, 5682]\n"
          ]
        }
      ]
    },
    {
      "cell_type": "markdown",
      "metadata": {
        "id": "1efEIl8MVjNu"
      },
      "source": [
        "##pre-processing\n"
      ]
    },
    {
      "cell_type": "code",
      "metadata": {
        "colab": {
          "base_uri": "https://localhost:8080/"
        },
        "id": "n4bXwrDZVhC-",
        "outputId": "6079cdec-7c4b-442f-99de-a0102d740d80"
      },
      "source": [
        "max_len = 0\n",
        "\n",
        "\n",
        "for tweet in train['tweet']:\n",
        "    \n",
        "    # The following code is used to clean the tweets by removing URLs, accounts, quotation marks,etc\n",
        "    #url_pattern = re.compile(r'https?://\\S+|www\\.\\S+')\n",
        "    #tweet = url_pattern.sub(r'', tweet)\n",
        "    #tweet = re.sub('\\S*@\\S*\\s?', '', tweet)\n",
        "    #tweet = re.sub('\\s+', ' ', tweet)\n",
        "    #tweet = re.sub(\"\\'\", \"\", tweet)\n",
        "\n",
        "    input_ids = tokenizer.encode(tweet, add_special_tokens=True)\n",
        "\n",
        "    max_len = max(max_len, len(input_ids))        #maximum length of input ids\n",
        "\n",
        "print('Max sequence length: ', max_len)"
      ],
      "execution_count": 19,
      "outputs": [
        {
          "output_type": "stream",
          "name": "stdout",
          "text": [
            "Max sequence length:  189\n"
          ]
        }
      ]
    },
    {
      "cell_type": "code",
      "metadata": {
        "colab": {
          "base_uri": "https://localhost:8080/",
          "height": 450
        },
        "id": "4iXM25jKkQjP",
        "outputId": "d85d503d-53ef-4ba6-bb82-a7d7a40232bf"
      },
      "source": [
        "train.head(100)"
      ],
      "execution_count": 20,
      "outputs": [
        {
          "output_type": "execute_result",
          "data": {
            "text/html": [
              "<div>\n",
              "<style scoped>\n",
              "    .dataframe tbody tr th:only-of-type {\n",
              "        vertical-align: middle;\n",
              "    }\n",
              "\n",
              "    .dataframe tbody tr th {\n",
              "        vertical-align: top;\n",
              "    }\n",
              "\n",
              "    .dataframe thead th {\n",
              "        text-align: right;\n",
              "    }\n",
              "</style>\n",
              "<table border=\"1\" class=\"dataframe\">\n",
              "  <thead>\n",
              "    <tr style=\"text-align: right;\">\n",
              "      <th></th>\n",
              "      <th>tweet</th>\n",
              "      <th>Sentiment</th>\n",
              "    </tr>\n",
              "    <tr>\n",
              "      <th>id</th>\n",
              "      <th></th>\n",
              "      <th></th>\n",
              "    </tr>\n",
              "  </thead>\n",
              "  <tbody>\n",
              "    <tr>\n",
              "      <th>1.420000e+18</th>\n",
              "      <td>My nerdy nerd got vaccinated Ã Å Â Å Ã Å Â Â Ã...</td>\n",
              "      <td>1</td>\n",
              "    </tr>\n",
              "    <tr>\n",
              "      <th>1.420000e+18</th>\n",
              "      <td>Ready for 2nd dose of vaccine tomorrow CucukMyAZ</td>\n",
              "      <td>1</td>\n",
              "    </tr>\n",
              "    <tr>\n",
              "      <th>1.420000e+18</th>\n",
              "      <td>Done CucukMyAZ HartalDoktorKontrak</td>\n",
              "      <td>1</td>\n",
              "    </tr>\n",
              "    <tr>\n",
              "      <th>1.420000e+18</th>\n",
              "      <td>Protection installed FULLY vaccinated Thank yo...</td>\n",
              "      <td>1</td>\n",
              "    </tr>\n",
              "    <tr>\n",
              "      <th>1.420000e+18</th>\n",
              "      <td>CucukMyAZ 2nd dose done</td>\n",
              "      <td>1</td>\n",
              "    </tr>\n",
              "    <tr>\n",
              "      <th>...</th>\n",
              "      <td>...</td>\n",
              "      <td>...</td>\n",
              "    </tr>\n",
              "    <tr>\n",
              "      <th>1.420000e+18</th>\n",
              "      <td>CucukMyAZ update 20hours in Sofelt like shit w...</td>\n",
              "      <td>2</td>\n",
              "    </tr>\n",
              "    <tr>\n",
              "      <th>1.420000e+18</th>\n",
              "      <td>Why does cucukMYAZ sounds familiar Oh wait</td>\n",
              "      <td>0</td>\n",
              "    </tr>\n",
              "    <tr>\n",
              "      <th>1.420000e+18</th>\n",
              "      <td>Ã Å â â AstraZeneca Completed My Second Dose C...</td>\n",
              "      <td>1</td>\n",
              "    </tr>\n",
              "    <tr>\n",
              "      <th>1.420000e+18</th>\n",
              "      <td>My dad took this picture and it turns out grea...</td>\n",
              "      <td>1</td>\n",
              "    </tr>\n",
              "    <tr>\n",
              "      <th>1.420000e+18</th>\n",
              "      <td>Im deaddeadass cucukMYAZ CucukMySinovac MySeja...</td>\n",
              "      <td>2</td>\n",
              "    </tr>\n",
              "  </tbody>\n",
              "</table>\n",
              "<p>100 rows × 2 columns</p>\n",
              "</div>"
            ],
            "text/plain": [
              "                                                          tweet  Sentiment\n",
              "id                                                                        \n",
              "1.420000e+18  My nerdy nerd got vaccinated Ã Å Â Å Ã Å Â Â Ã...          1\n",
              "1.420000e+18   Ready for 2nd dose of vaccine tomorrow CucukMyAZ          1\n",
              "1.420000e+18                 Done CucukMyAZ HartalDoktorKontrak          1\n",
              "1.420000e+18  Protection installed FULLY vaccinated Thank yo...          1\n",
              "1.420000e+18                            CucukMyAZ 2nd dose done          1\n",
              "...                                                         ...        ...\n",
              "1.420000e+18  CucukMyAZ update 20hours in Sofelt like shit w...          2\n",
              "1.420000e+18         Why does cucukMYAZ sounds familiar Oh wait          0\n",
              "1.420000e+18  Ã Å â â AstraZeneca Completed My Second Dose C...          1\n",
              "1.420000e+18  My dad took this picture and it turns out grea...          1\n",
              "1.420000e+18  Im deaddeadass cucukMYAZ CucukMySinovac MySeja...          2\n",
              "\n",
              "[100 rows x 2 columns]"
            ]
          },
          "metadata": {},
          "execution_count": 20
        }
      ]
    },
    {
      "cell_type": "code",
      "metadata": {
        "colab": {
          "base_uri": "https://localhost:8080/"
        },
        "id": "utciqA-gXmlN",
        "outputId": "0cd40031-1d50-4f10-9853-33e3496d5b13"
      },
      "source": [
        "input_ids = []\n",
        "attention_masks = []\n",
        "\n",
        "for sent in train['tweet']:\n",
        "    \n",
        "    encoded_dict = tokenizer.encode_plus(\n",
        "                        sent,                      \n",
        "                        add_special_tokens = True, \n",
        "                        max_length = 256, ## original 110           \n",
        "                        pad_to_max_length = True,\n",
        "                        return_attention_mask = True,   \n",
        "                        return_tensors = 'pt',     \n",
        "                   )\n",
        "     \n",
        "    input_ids.append(encoded_dict['input_ids'])\n",
        "    attention_masks.append(encoded_dict['attention_mask'])\n",
        "\n",
        "\n",
        "input_ids = torch.cat(input_ids, dim=0)\n",
        "attention_masks = torch.cat(attention_masks, dim=0)\n",
        "labels = torch.tensor(train['Sentiment'].tolist())"
      ],
      "execution_count": 21,
      "outputs": [
        {
          "output_type": "stream",
          "name": "stderr",
          "text": [
            "Truncation was not explicitly activated but `max_length` is provided a specific value, please use `truncation=True` to explicitly truncate examples to max length. Defaulting to 'longest_first' truncation strategy. If you encode pairs of sequences (GLUE-style) with the tokenizer you can select this strategy more precisely by providing a specific strategy to `truncation`.\n",
            "/usr/local/lib/python3.7/dist-packages/transformers/tokenization_utils_base.py:2218: FutureWarning: The `pad_to_max_length` argument is deprecated and will be removed in a future version, use `padding=True` or `padding='longest'` to pad to the longest sequence in the batch, or use `padding='max_length'` to pad to a max length. In this case, you can give a specific length with `max_length` (e.g. `max_length=45`) or leave max_length to None to pad to the maximal input size of the model (e.g. 512 for Bert).\n",
            "  FutureWarning,\n"
          ]
        }
      ]
    },
    {
      "cell_type": "markdown",
      "metadata": {
        "id": "eW9LGUcdZdyH"
      },
      "source": [
        "##datasets and dataloader"
      ]
    },
    {
      "cell_type": "code",
      "metadata": {
        "id": "xMaiII6ZYnQW",
        "colab": {
          "base_uri": "https://localhost:8080/"
        },
        "outputId": "afbbfb12-64df-45da-992b-3dbd4c09d01c"
      },
      "source": [
        "from torch.utils.data import TensorDataset, random_split\n",
        "\n",
        "dataset = TensorDataset(input_ids, attention_masks, labels)  #storing the input ids,masks and labels in dataset\n",
        "\n",
        "train_size = int(0.8 * len(dataset))\n",
        "val_size = len(dataset) - train_size\n",
        "\n",
        "train_dataset, val_dataset = random_split(dataset, [train_size, val_size])  #90-10 train-val split\n",
        "#train_dataset, val_dataset = train_test_split(dataset, train_size = 0.8, stratify])\n",
        "#train_df, eval_df = train_test_split(df, test_size=0.2,stratify=df.label.values)\n",
        "\n",
        "print('{:>5,} training samples'.format(train_size))\n",
        "print('{:>5,} validation samples'.format(val_size))"
      ],
      "execution_count": 22,
      "outputs": [
        {
          "output_type": "stream",
          "name": "stdout",
          "text": [
            "8,310 training samples\n",
            "2,078 validation samples\n"
          ]
        }
      ]
    },
    {
      "cell_type": "code",
      "metadata": {
        "id": "-OzFXWq-WuQE"
      },
      "source": [
        "#df_train, df_test = train_test_split(df, test_size=0.1, random_state=RANDOM_SEED)\n",
        "#df_val, df_test = train_test_split(df_test, test_size=0.5, random_state=RANDOM_SEED)"
      ],
      "execution_count": null,
      "outputs": []
    },
    {
      "cell_type": "code",
      "metadata": {
        "id": "acPqcs_RDqaw",
        "colab": {
          "base_uri": "https://localhost:8080/"
        },
        "outputId": "5d893ab6-ed81-457c-b508-a52fc4534e2f"
      },
      "source": [
        "len(train_dataset)"
      ],
      "execution_count": 23,
      "outputs": [
        {
          "output_type": "execute_result",
          "data": {
            "text/plain": [
              "8310"
            ]
          },
          "metadata": {},
          "execution_count": 23
        }
      ]
    },
    {
      "cell_type": "code",
      "metadata": {
        "id": "6-mi_BLqDwJk",
        "colab": {
          "base_uri": "https://localhost:8080/"
        },
        "outputId": "e7118850-6e71-4a4c-d8c5-40df4123eb10"
      },
      "source": [
        "len(val_dataset)"
      ],
      "execution_count": 24,
      "outputs": [
        {
          "output_type": "execute_result",
          "data": {
            "text/plain": [
              "2078"
            ]
          },
          "metadata": {},
          "execution_count": 24
        }
      ]
    },
    {
      "cell_type": "code",
      "metadata": {
        "id": "UTdZq232YsNG"
      },
      "source": [
        "from torch.utils.data import DataLoader, RandomSampler, SequentialSampler\n",
        "\n",
        "\n",
        "batch_size = 32\n",
        "\n",
        "train_dataloader = DataLoader(\n",
        "            train_dataset,  \n",
        "            sampler = RandomSampler(train_dataset),     #random sampling in training\n",
        "            batch_size = batch_size \n",
        "        )\n",
        "\n",
        "validation_dataloader = DataLoader(\n",
        "            val_dataset, \n",
        "            sampler = SequentialSampler(val_dataset),    #sequential sampling in validation\n",
        "            batch_size = batch_size \n",
        "        )"
      ],
      "execution_count": 25,
      "outputs": []
    },
    {
      "cell_type": "code",
      "metadata": {
        "colab": {
          "base_uri": "https://localhost:8080/",
          "height": 154,
          "referenced_widgets": [
            "f6ff885ca64d4d21a9d40588c381903b",
            "6d67a17e594e4b199b3c23417aa20640",
            "b4cd36964ca549259bd4fb6fc1a8f22a",
            "20f19fe3a4de4a5f9fbf31788940f902",
            "fdcc86640bff4cac8ac8c7a5692aae81",
            "7ac36d23b9c84f52acc0d53d16e1d74e",
            "9ce4cd83283f41bca5ea729088a34e6b",
            "438035b84e6d48138d41249b6c28aaa3",
            "5b96336be8874d8db9f00612732e575e",
            "8dc5b2748034461ca052b9fc9ced2eeb",
            "c8095bd570d04d17a939ba31a124d951"
          ]
        },
        "id": "EvFI8k2SYv_L",
        "outputId": "63939778-e366-494c-9c84-9bdaa68f9d92"
      },
      "source": [
        "from transformers import BertForSequenceClassification, AdamW, BertConfig\n",
        "\n",
        "\n",
        "model = BertForSequenceClassification.from_pretrained(\n",
        "    \"bert-base-uncased\", \n",
        "    num_labels = 3,   \n",
        "    output_attentions = False,\n",
        "    output_hidden_states = False,\n",
        ")\n",
        "\n"
      ],
      "execution_count": 26,
      "outputs": [
        {
          "output_type": "display_data",
          "data": {
            "application/vnd.jupyter.widget-view+json": {
              "model_id": "f6ff885ca64d4d21a9d40588c381903b",
              "version_minor": 0,
              "version_major": 2
            },
            "text/plain": [
              "Downloading:   0%|          | 0.00/420M [00:00<?, ?B/s]"
            ]
          },
          "metadata": {}
        },
        {
          "output_type": "stream",
          "name": "stderr",
          "text": [
            "Some weights of the model checkpoint at bert-base-uncased were not used when initializing BertForSequenceClassification: ['cls.seq_relationship.weight', 'cls.predictions.transform.dense.weight', 'cls.predictions.decoder.weight', 'cls.predictions.transform.LayerNorm.weight', 'cls.predictions.transform.LayerNorm.bias', 'cls.predictions.transform.dense.bias', 'cls.seq_relationship.bias', 'cls.predictions.bias']\n",
            "- This IS expected if you are initializing BertForSequenceClassification from the checkpoint of a model trained on another task or with another architecture (e.g. initializing a BertForSequenceClassification model from a BertForPreTraining model).\n",
            "- This IS NOT expected if you are initializing BertForSequenceClassification from the checkpoint of a model that you expect to be exactly identical (initializing a BertForSequenceClassification model from a BertForSequenceClassification model).\n",
            "Some weights of BertForSequenceClassification were not initialized from the model checkpoint at bert-base-uncased and are newly initialized: ['classifier.bias', 'classifier.weight']\n",
            "You should probably TRAIN this model on a down-stream task to be able to use it for predictions and inference.\n"
          ]
        }
      ]
    },
    {
      "cell_type": "code",
      "metadata": {
        "id": "QRRbG72e-R5a"
      },
      "source": [
        "# Tell pytorch to run this model on the GPU.\n",
        "#model.cuda()"
      ],
      "execution_count": null,
      "outputs": []
    },
    {
      "cell_type": "markdown",
      "metadata": {
        "id": "Iw55tDIeZwLk"
      },
      "source": [
        "##optimiser and scheduler\n"
      ]
    },
    {
      "cell_type": "code",
      "metadata": {
        "id": "r2CnEZCCZ1R6"
      },
      "source": [
        "optimizer = AdamW(model.parameters(),\n",
        "                  lr = 2e-5, \n",
        "                  eps = 1e-8 \n",
        "                )"
      ],
      "execution_count": 27,
      "outputs": []
    },
    {
      "cell_type": "code",
      "metadata": {
        "id": "1oV0xl0CZ7y-"
      },
      "source": [
        "from transformers import get_linear_schedule_with_warmup\n",
        "\n",
        "epochs = 5\n",
        "\n",
        "\n",
        "total_steps = len(train_dataloader) * epochs\n",
        "\n",
        "scheduler = get_linear_schedule_with_warmup(optimizer, \n",
        "                                            num_warmup_steps = 0, \n",
        "                                            num_training_steps = total_steps)"
      ],
      "execution_count": 28,
      "outputs": []
    },
    {
      "cell_type": "code",
      "metadata": {
        "id": "PsN3fNh6ff5q"
      },
      "source": [
        "# The function to get the accuracy \n",
        "def compute_metrics(pred):\n",
        "    labels = pred.label_ids\n",
        "    preds = pred.predictions.argmax(-1)\n",
        "    precision, recall, f1, _ = precision_recall_fscore_support(labels, preds, average='binary')\n",
        "    acc = accuracy_score(labels, preds)\n",
        "    return {\n",
        "        'accuracy': acc,\n",
        "        'f1': f1,\n",
        "        'precision': precision,\n",
        "        'recall': recall\n",
        "    }"
      ],
      "execution_count": 29,
      "outputs": []
    },
    {
      "cell_type": "code",
      "metadata": {
        "id": "u-TxxIetDOjN"
      },
      "source": [
        "#def f1_multiclass(labels, preds):\n",
        " #   return f1_score(labels, preds, average='micro')\n",
        "    \n",
        "#result, model, wrong_predictions = model.eval(val_dataset, f1=f1_multiclass, acc=accuracy_score)"
      ],
      "execution_count": null,
      "outputs": []
    },
    {
      "cell_type": "code",
      "metadata": {
        "id": "fiI1JTgAaBSb"
      },
      "source": [
        "# Function to calculate the accuracy of our predictions vs labels\n",
        "\n",
        "import numpy as np\n",
        "\n",
        "def flat_accuracy(preds, labels):\n",
        "    pred_flat = np.argmax(preds, axis=1).flatten()\n",
        "    labels_flat = labels.flatten()\n",
        "    return np.sum(pred_flat == labels_flat) / len(labels_flat)"
      ],
      "execution_count": 30,
      "outputs": []
    },
    {
      "cell_type": "code",
      "metadata": {
        "id": "4wxthAMUaGCa"
      },
      "source": [
        "import time\n",
        "import datetime\n",
        "\n",
        "def format_time(elapsed):\n",
        "    '''\n",
        "    Takes a time in seconds and returns a string hh:mm:ss\n",
        "    '''\n",
        "    elapsed_rounded = int(round((elapsed)))\n",
        "    \n",
        "    return str(datetime.timedelta(seconds=elapsed_rounded))"
      ],
      "execution_count": 31,
      "outputs": []
    },
    {
      "cell_type": "markdown",
      "metadata": {
        "id": "v5bwbTb8bT3W"
      },
      "source": [
        "##training loop "
      ]
    },
    {
      "cell_type": "code",
      "metadata": {
        "colab": {
          "base_uri": "https://localhost:8080/"
        },
        "id": "vAvOXtMAenh6",
        "outputId": "e141c862-dc29-40fb-ebc2-f7034a37e07a"
      },
      "source": [
        "import random\n",
        "import numpy as np\n",
        "\n",
        "\n",
        "seed_val = 42\n",
        "epochs=1\n",
        "\n",
        "random.seed(seed_val)\n",
        "np.random.seed(seed_val)\n",
        "torch.manual_seed(seed_val)\n",
        "torch.cuda.manual_seed_all(seed_val)\n",
        "\n",
        "model.to(device)\n",
        "\n",
        "\n",
        "training_stats = []\n",
        "\n",
        "total_t0 = time.time()\n",
        "\n",
        "for epoch_i in range(0, epochs):\n",
        "    \n",
        "    print(\"\")\n",
        "    print('======== Epoch {:} / {:} ========'.format(epoch_i + 1, epochs))\n",
        "    print('Training...')\n",
        "\n",
        "    t0 = time.time()\n",
        "\n",
        "    total_train_loss = 0\n",
        "\n",
        "    model.train()\n",
        "\n",
        "    for step, batch in enumerate(train_dataloader):\n",
        "        \n",
        "        # Printing the progress after every 40 epochs\n",
        "        if step % 40 == 0 and not step == 0:\n",
        "            \n",
        "            elapsed = format_time(time.time() - t0)\n",
        "            \n",
        "            print('  Batch {:>5,}  of  {:>5,}.    Elapsed: {:}.'.format(step, len(train_dataloader), elapsed))\n",
        "\n",
        "        b_input_ids = batch[0].to(device)\n",
        "        b_input_mask = batch[1].to(device)\n",
        "        b_labels = batch[2].to(device)\n",
        "\n",
        "        model.zero_grad()        \n",
        "\n",
        "        result = model(b_input_ids, \n",
        "                       token_type_ids=None, \n",
        "                       attention_mask=b_input_mask, \n",
        "                       labels=b_labels,\n",
        "                       return_dict=True)\n",
        "\n",
        "        loss = result.loss\n",
        "        logits = result.logits\n",
        "\n",
        "        total_train_loss += loss.item()\n",
        "\n",
        "        loss.backward()\n",
        "\n",
        "        torch.nn.utils.clip_grad_norm_(model.parameters(), 1.0)\n",
        "\n",
        "        optimizer.step()\n",
        "        scheduler.step()\n",
        "\n",
        "    avg_train_loss = total_train_loss / len(train_dataloader)            \n",
        "\n",
        "    training_time = format_time(time.time() - t0)\n",
        "\n",
        "    print(\"\")\n",
        "    print(\"  Average training loss: {0:.2f}\".format(avg_train_loss))\n",
        "    print(\"  Training epoch took: {:}\".format(training_time))\n",
        "        \n",
        "    # ========================================\n",
        "    #               Validation\n",
        "    # ========================================\n",
        "\n",
        "    print(\"\")\n",
        "    print(\"Running Validation...\")\n",
        "\n",
        "    t0 = time.time()\n",
        "\n",
        "    model.eval()\n",
        "\n",
        "    total_eval_accuracy = 0\n",
        "    total_eval_loss = 0\n",
        "    nb_eval_steps = 0\n",
        "\n",
        "    for batch in validation_dataloader:\n",
        "\n",
        "        b_input_ids = batch[0].to(device)\n",
        "        b_input_mask = batch[1].to(device)\n",
        "        b_labels = batch[2].to(device)\n",
        "\n",
        "        with torch.no_grad():        \n",
        "\n",
        "            result = model(b_input_ids, \n",
        "                           token_type_ids=None, \n",
        "                           attention_mask=b_input_mask,\n",
        "                           labels=b_labels,\n",
        "                           return_dict=True)\n",
        "\n",
        "        loss = result.loss\n",
        "        logits = result.logits\n",
        "            \n",
        "        total_eval_loss += loss.item()\n",
        "\n",
        "        logits = logits.detach().cpu().numpy()\n",
        "        label_ids = b_labels.to('cpu').numpy()\n",
        "\n",
        "        total_eval_accuracy += flat_accuracy(logits, label_ids)\n",
        "        \n",
        "    avg_val_accuracy = total_eval_accuracy / len(validation_dataloader)\n",
        "    print(\"  Accuracy: {0:.2f}\".format(avg_val_accuracy))\n",
        "    \n",
        "\n",
        "    avg_val_loss = total_eval_loss / len(validation_dataloader)\n",
        "\n",
        "    validation_time = format_time(time.time() - t0)\n",
        "    \n",
        "    print(\"  Validation Loss: {0:.2f}\".format(avg_val_loss))\n",
        "    print(\"  Validation took: {:}\".format(validation_time))\n",
        "\n",
        "    training_stats.append(\n",
        "        {\n",
        "            'epoch': epoch_i + 1,\n",
        "            'Training Loss': avg_train_loss,\n",
        "            'Valid. Loss': avg_val_loss,\n",
        "            'Valid. Accur.': avg_val_accuracy,\n",
        "            'Training Time': training_time,\n",
        "            'Validation Time': validation_time\n",
        "        }\n",
        "    )\n",
        "\n",
        "print(\"\")\n",
        "print(\"Training complete!\")\n",
        "\n",
        "print(\"Total training took {:} (h:mm:ss)\".format(format_time(time.time()-total_t0)))\n"
      ],
      "execution_count": 50,
      "outputs": [
        {
          "output_type": "stream",
          "name": "stdout",
          "text": [
            "\n",
            "======== Epoch 1 / 3 ========\n",
            "Training...\n",
            "  Batch    40  of    260.    Elapsed: 0:01:38.\n",
            "  Batch    80  of    260.    Elapsed: 0:03:16.\n",
            "  Batch   120  of    260.    Elapsed: 0:04:53.\n",
            "  Batch   160  of    260.    Elapsed: 0:06:30.\n",
            "  Batch   200  of    260.    Elapsed: 0:08:07.\n",
            "  Batch   240  of    260.    Elapsed: 0:09:44.\n",
            "\n",
            "  Average training loss: 0.08\n",
            "  Training epoch took: 0:10:32\n",
            "\n",
            "Running Validation...\n",
            "  Accuracy: 0.82\n",
            "  Validation Loss: 0.72\n",
            "  Validation took: 0:01:00\n",
            "\n",
            "======== Epoch 2 / 3 ========\n",
            "Training...\n",
            "  Batch    40  of    260.    Elapsed: 0:01:37.\n",
            "  Batch    80  of    260.    Elapsed: 0:03:14.\n",
            "  Batch   120  of    260.    Elapsed: 0:04:51.\n",
            "  Batch   160  of    260.    Elapsed: 0:06:28.\n",
            "  Batch   200  of    260.    Elapsed: 0:08:05.\n",
            "  Batch   240  of    260.    Elapsed: 0:09:42.\n",
            "\n",
            "  Average training loss: 0.06\n",
            "  Training epoch took: 0:10:30\n",
            "\n",
            "Running Validation...\n",
            "  Accuracy: 0.83\n",
            "  Validation Loss: 0.78\n",
            "  Validation took: 0:01:00\n",
            "\n",
            "======== Epoch 3 / 3 ========\n",
            "Training...\n",
            "  Batch    40  of    260.    Elapsed: 0:01:37.\n",
            "  Batch    80  of    260.    Elapsed: 0:03:14.\n",
            "  Batch   120  of    260.    Elapsed: 0:04:51.\n",
            "  Batch   160  of    260.    Elapsed: 0:06:28.\n",
            "  Batch   200  of    260.    Elapsed: 0:08:06.\n",
            "  Batch   240  of    260.    Elapsed: 0:09:43.\n",
            "\n",
            "  Average training loss: 0.10\n",
            "  Training epoch took: 0:10:30\n",
            "\n",
            "Running Validation...\n",
            "  Accuracy: 0.83\n",
            "  Validation Loss: 0.78\n",
            "  Validation took: 0:01:00\n",
            "\n",
            "Training complete!\n",
            "Total training took 0:34:33 (h:mm:ss)\n"
          ]
        }
      ]
    },
    {
      "cell_type": "code",
      "metadata": {
        "id": "PCRUkIva-lIR",
        "colab": {
          "base_uri": "https://localhost:8080/",
          "height": 173
        },
        "outputId": "aa6dc0ef-55fa-4318-eaff-3e10e949facd"
      },
      "source": [
        "import pandas as pd\n",
        "\n",
        "# Display floats with two decimal places.\n",
        "pd.set_option('precision', 5)\n",
        "\n",
        "# Create a DataFrame from our training statistics.\n",
        "df_stats = pd.DataFrame(data=training_stats)\n",
        "\n",
        "# Use the 'epoch' as the row index.\n",
        "df_stats = df_stats.set_index('epoch')\n",
        "\n",
        "# A hack to force the column headers to wrap.\n",
        "#df = df.style.set_table_styles([dict(selector=\"th\",props=[('max-width', '70px')])])\n",
        "\n",
        "# Display the table.\n",
        "df_stats"
      ],
      "execution_count": 51,
      "outputs": [
        {
          "output_type": "execute_result",
          "data": {
            "text/html": [
              "<div>\n",
              "<style scoped>\n",
              "    .dataframe tbody tr th:only-of-type {\n",
              "        vertical-align: middle;\n",
              "    }\n",
              "\n",
              "    .dataframe tbody tr th {\n",
              "        vertical-align: top;\n",
              "    }\n",
              "\n",
              "    .dataframe thead th {\n",
              "        text-align: right;\n",
              "    }\n",
              "</style>\n",
              "<table border=\"1\" class=\"dataframe\">\n",
              "  <thead>\n",
              "    <tr style=\"text-align: right;\">\n",
              "      <th></th>\n",
              "      <th>Training Loss</th>\n",
              "      <th>Valid. Loss</th>\n",
              "      <th>Valid. Accur.</th>\n",
              "      <th>Training Time</th>\n",
              "      <th>Validation Time</th>\n",
              "    </tr>\n",
              "    <tr>\n",
              "      <th>epoch</th>\n",
              "      <th></th>\n",
              "      <th></th>\n",
              "      <th></th>\n",
              "      <th></th>\n",
              "      <th></th>\n",
              "    </tr>\n",
              "  </thead>\n",
              "  <tbody>\n",
              "    <tr>\n",
              "      <th>1</th>\n",
              "      <td>0.08093</td>\n",
              "      <td>0.72191</td>\n",
              "      <td>0.82205</td>\n",
              "      <td>0:10:32</td>\n",
              "      <td>0:01:00</td>\n",
              "    </tr>\n",
              "    <tr>\n",
              "      <th>2</th>\n",
              "      <td>0.05622</td>\n",
              "      <td>0.77555</td>\n",
              "      <td>0.82542</td>\n",
              "      <td>0:10:30</td>\n",
              "      <td>0:01:00</td>\n",
              "    </tr>\n",
              "    <tr>\n",
              "      <th>3</th>\n",
              "      <td>0.10079</td>\n",
              "      <td>0.77555</td>\n",
              "      <td>0.82542</td>\n",
              "      <td>0:10:30</td>\n",
              "      <td>0:01:00</td>\n",
              "    </tr>\n",
              "  </tbody>\n",
              "</table>\n",
              "</div>"
            ],
            "text/plain": [
              "       Training Loss  Valid. Loss  Valid. Accur. Training Time Validation Time\n",
              "epoch                                                                         \n",
              "1            0.08093      0.72191        0.82205       0:10:32         0:01:00\n",
              "2            0.05622      0.77555        0.82542       0:10:30         0:01:00\n",
              "3            0.10079      0.77555        0.82542       0:10:30         0:01:00"
            ]
          },
          "metadata": {},
          "execution_count": 51
        }
      ]
    },
    {
      "cell_type": "code",
      "metadata": {
        "id": "jpOF8X_bGBdE",
        "colab": {
          "base_uri": "https://localhost:8080/",
          "height": 427
        },
        "outputId": "6bf4e78e-bf70-433c-ebb3-c54686606205"
      },
      "source": [
        "import matplotlib.pyplot as plt\n",
        "% matplotlib inline\n",
        "\n",
        "import seaborn as sns\n",
        "\n",
        "# Use plot styling from seaborn.\n",
        "sns.set(style='darkgrid')\n",
        "\n",
        "# Increase the plot size and font size.\n",
        "sns.set(font_scale=1.5)\n",
        "plt.rcParams[\"figure.figsize\"] = (12,6)\n",
        "\n",
        "# Plot the learning curve.\n",
        "plt.plot(df_stats['Training Loss'], 'b-o', label=\"Training\")\n",
        "plt.plot(df_stats['Valid. Loss'], 'g-o', label=\"Validation\")\n",
        "\n",
        "# Label the plot.\n",
        "plt.title(\"Training & Validation Loss\")\n",
        "plt.xlabel(\"Epoch\")\n",
        "plt.ylabel(\"Loss\")\n",
        "plt.legend()\n",
        "plt.xticks([1, 2, 3, 4])\n",
        "\n",
        "plt.show()\n"
      ],
      "execution_count": 52,
      "outputs": [
        {
          "output_type": "display_data",
          "data": {
            "image/png": "[encoded data removed]",
            "text/plain": [
              "<Figure size 864x432 with 1 Axes>"
            ]
          },
          "metadata": {}
        }
      ]
    },
    {
      "cell_type": "code",
      "metadata": {
        "colab": {
          "base_uri": "https://localhost:8080/",
          "height": 427
        },
        "id": "_sYmGCdM1MQ_",
        "outputId": "fe62b6ff-e593-4de1-b1fd-722088c725f7"
      },
      "source": [
        "import matplotlib.pyplot as plt\n",
        "% matplotlib inline\n",
        "\n",
        "import seaborn as sns\n",
        "\n",
        "# Use plot styling from seaborn.\n",
        "sns.set(style='darkgrid')\n",
        "\n",
        "# Increase the plot size and font size.\n",
        "sns.set(font_scale=1.5)\n",
        "plt.rcParams[\"figure.figsize\"] = (12,6)\n",
        "\n",
        "# Plot the learning curve.\n",
        "plt.plot(df_stats['Valid. Accur.'], 'b-o', label=\"Accuracy\")\n",
        "#plt.plot(df_stats['epoch'], 'g-o', label=\"Epoch\")\n",
        "\n",
        "# Label the plot.\n",
        "plt.title(\"Training History \")\n",
        "plt.xlabel(\"Epoch\")\n",
        "plt.ylabel(\"Accuracy\")\n",
        "plt.legend()\n",
        "plt.xticks([1, 2, 3, 4])\n",
        "\n",
        "plt.show()"
      ],
      "execution_count": 53,
      "outputs": [
        {
          "output_type": "display_data",
          "data": {
            "image/png": "[encoded data removed]",
            "text/plain": [
              "<Figure size 864x432 with 1 Axes>"
            ]
          },
          "metadata": {}
        }
      ]
    },
    {
      "cell_type": "markdown",
      "metadata": {
        "id": "adPFTSKnamy-"
      },
      "source": [
        "##Performance On Test Set"
      ]
    },
    {
      "cell_type": "markdown",
      "metadata": {
        "id": "bKg_HTpHasJq"
      },
      "source": [
        "###Data Preparation\n"
      ]
    },
    {
      "cell_type": "code",
      "metadata": {
        "colab": {
          "base_uri": "https://localhost:8080/",
          "height": 235
        },
        "id": "ICrqGM6ZWq78",
        "outputId": "070b1b27-9136-49c1-8ad7-eed63769896c"
      },
      "source": [
        "#df_vax = pd.read_csv('gdrive/My Drive/thesis/dataset/cucukmyAZ_28july_no_retweet_label_copy.csv')\n",
        "df_vax = pd.read_csv('gdrive/My Drive/thesis/dataset/cucukmyAZ_latest_v3.csv')\n",
        "\n",
        "df_vax.set_index('id', inplace=True)\n",
        "df_vax.head()\n",
        "#df_vax = pd.read_csv('vaccination_all_tweets.csv')\n",
        "#df_vax\n"
      ],
      "execution_count": 54,
      "outputs": [
        {
          "output_type": "execute_result",
          "data": {
            "text/html": [
              "<div>\n",
              "<style scoped>\n",
              "    .dataframe tbody tr th:only-of-type {\n",
              "        vertical-align: middle;\n",
              "    }\n",
              "\n",
              "    .dataframe tbody tr th {\n",
              "        vertical-align: top;\n",
              "    }\n",
              "\n",
              "    .dataframe thead th {\n",
              "        text-align: right;\n",
              "    }\n",
              "</style>\n",
              "<table border=\"1\" class=\"dataframe\">\n",
              "  <thead>\n",
              "    <tr style=\"text-align: right;\">\n",
              "      <th></th>\n",
              "      <th>date</th>\n",
              "      <th>Label</th>\n",
              "      <th>tweet</th>\n",
              "      <th>language</th>\n",
              "      <th>hashtags</th>\n",
              "      <th>username</th>\n",
              "    </tr>\n",
              "    <tr>\n",
              "      <th>id</th>\n",
              "      <th></th>\n",
              "      <th></th>\n",
              "      <th></th>\n",
              "      <th></th>\n",
              "      <th></th>\n",
              "      <th></th>\n",
              "    </tr>\n",
              "  </thead>\n",
              "  <tbody>\n",
              "    <tr>\n",
              "      <th>1.42000e+18</th>\n",
              "      <td>7/27/2021 19:18</td>\n",
              "      <td>1</td>\n",
              "      <td>My nerdy nerd got vaccinated. Ã°Å¸Â¤Å“Ã°Å¸ÂÂ»...</td>\n",
              "      <td>en</td>\n",
              "      <td>['cucukmyaz', 'jkjav']</td>\n",
              "      <td>akashah</td>\n",
              "    </tr>\n",
              "    <tr>\n",
              "      <th>1.42000e+18</th>\n",
              "      <td>7/27/2021 16:08</td>\n",
              "      <td>1</td>\n",
              "      <td>Ready for 2nd dose of vaccine tomorrow #CucukM...</td>\n",
              "      <td>en</td>\n",
              "      <td>['cucukmyaz']</td>\n",
              "      <td>qeels88</td>\n",
              "    </tr>\n",
              "    <tr>\n",
              "      <th>1.42000e+18</th>\n",
              "      <td>7/27/2021 14:48</td>\n",
              "      <td>1</td>\n",
              "      <td>Done #CucukMyAZ #HartalDoktorKontrak  https://...</td>\n",
              "      <td>en</td>\n",
              "      <td>['cucukmyaz', 'hartaldoktorkontrak']</td>\n",
              "      <td>nfamohdnasir</td>\n",
              "    </tr>\n",
              "    <tr>\n",
              "      <th>1.42000e+18</th>\n",
              "      <td>7/27/2021 14:08</td>\n",
              "      <td>1</td>\n",
              "      <td>Protection installed, FULLY vaccinated!   Than...</td>\n",
              "      <td>en</td>\n",
              "      <td>['cucukmyaz']</td>\n",
              "      <td>ezypepper</td>\n",
              "    </tr>\n",
              "    <tr>\n",
              "      <th>1.42000e+18</th>\n",
              "      <td>7/27/2021 13:46</td>\n",
              "      <td>1</td>\n",
              "      <td>#CucukMyAZ 2nd dose done!  https://t.co/QirsKs...</td>\n",
              "      <td>en</td>\n",
              "      <td>['cucukmyaz']</td>\n",
              "      <td>hadiharhar</td>\n",
              "    </tr>\n",
              "  </tbody>\n",
              "</table>\n",
              "</div>"
            ],
            "text/plain": [
              "                        date  ...      username\n",
              "id                            ...              \n",
              "1.42000e+18  7/27/2021 19:18  ...       akashah\n",
              "1.42000e+18  7/27/2021 16:08  ...       qeels88\n",
              "1.42000e+18  7/27/2021 14:48  ...  nfamohdnasir\n",
              "1.42000e+18  7/27/2021 14:08  ...     ezypepper\n",
              "1.42000e+18  7/27/2021 13:46  ...    hadiharhar\n",
              "\n",
              "[5 rows x 6 columns]"
            ]
          },
          "metadata": {},
          "execution_count": 54
        }
      ]
    },
    {
      "cell_type": "code",
      "metadata": {
        "id": "IYflS_Z_yF2F"
      },
      "source": [
        "#Remove twitter handlers\n",
        "df_vax.tweet= df_vax.tweet.apply(lambda x:re.sub('@[^\\s]+','',x))\n",
        "\n",
        "#remove hashtags\n",
        "#df.tweet = df.tweet.apply(lambda x:re.sub(r'\\B#\\S+','',x))\n",
        "\n",
        "# Remove URLS\n",
        "df_vax.tweet = df_vax.tweet.apply(lambda x:re.sub(r\"http\\S+\", \"\", x))\n",
        "\n",
        "# Remove all the special characters\n",
        "df_vax.tweet = df_vax.tweet.apply(lambda x:' '.join(re.findall(r'\\w+', x)))\n",
        "\n",
        "#remove all single characters\n",
        "df_vax.tweet = df_vax.tweet.apply(lambda x:re.sub(r'\\s+[a-zA-Z]\\s+', '', x))\n",
        "\n",
        "# Substituting multiple spaces with single space\n",
        "df_vax.tweet = df_vax.tweet.apply(lambda x:re.sub(r'\\s+', ' ', x, flags=re.I))"
      ],
      "execution_count": 55,
      "outputs": []
    },
    {
      "cell_type": "code",
      "metadata": {
        "id": "Ql4kndjol0bm"
      },
      "source": [
        "vax_tweets=df_vax['tweet']"
      ],
      "execution_count": 56,
      "outputs": []
    },
    {
      "cell_type": "code",
      "metadata": {
        "colab": {
          "base_uri": "https://localhost:8080/"
        },
        "id": "4iMfscMrzXAm",
        "outputId": "94ce9b47-0809-4bb8-f268-362cc3d95ea4"
      },
      "source": [
        "vax_tweets.head()"
      ],
      "execution_count": 57,
      "outputs": [
        {
          "output_type": "execute_result",
          "data": {
            "text/plain": [
              "id\n",
              "1.42000e+18    My nerdy nerd got vaccinated Ã Å Â Å Ã Å Â Â Ã...\n",
              "1.42000e+18     Ready for 2nd dose of vaccine tomorrow CucukMyAZ\n",
              "1.42000e+18                   Done CucukMyAZ HartalDoktorKontrak\n",
              "1.42000e+18    Protection installed FULLY vaccinated Thank yo...\n",
              "1.42000e+18                              CucukMyAZ 2nd dose done\n",
              "Name: tweet, dtype: object"
            ]
          },
          "metadata": {},
          "execution_count": 57
        }
      ]
    },
    {
      "cell_type": "code",
      "metadata": {
        "colab": {
          "base_uri": "https://localhost:8080/"
        },
        "id": "BV3rXiYfmM0E",
        "outputId": "d7e0dfd7-e959-45ed-c282-a620da918065"
      },
      "source": [
        "#preprocessing the tweet\n",
        "input_ids = []\n",
        "attention_masks = []\n",
        "\n",
        "for sent in vax_tweets:\n",
        "    \n",
        "    #url_pattern = re.compile(r'https?://\\S+|www\\.\\S+')\n",
        "    #tweet = url_pattern.sub(r'', tweet)\n",
        "    #tweet = re.sub('\\S*@\\S*\\s?', '', tweet)\n",
        "    #tweet = re.sub('\\s+', ' ', tweet)\n",
        "    #tweet = re.sub(\"\\'\", \"\", tweet)\n",
        "    \n",
        "    encoded_dict = tokenizer.encode_plus(\n",
        "                        sent,                      \n",
        "                        add_special_tokens = True, \n",
        "                        max_length = 200,           \n",
        "                        pad_to_max_length = True,\n",
        "                        return_attention_mask = True,   \n",
        "                        return_tensors = 'pt',     \n",
        "                   )\n",
        "     \n",
        "    input_ids.append(encoded_dict['input_ids'])\n",
        "    attention_masks.append(encoded_dict['attention_mask'])\n",
        "\n",
        "\n",
        "input_ids = torch.cat(input_ids, dim=0)\n",
        "attention_masks = torch.cat(attention_masks, dim=0)\n"
      ],
      "execution_count": 58,
      "outputs": [
        {
          "output_type": "stream",
          "name": "stderr",
          "text": [
            "/usr/local/lib/python3.7/dist-packages/transformers/tokenization_utils_base.py:2218: FutureWarning: The `pad_to_max_length` argument is deprecated and will be removed in a future version, use `padding=True` or `padding='longest'` to pad to the longest sequence in the batch, or use `padding='max_length'` to pad to a max length. In this case, you can give a specific length with `max_length` (e.g. `max_length=45`) or leave max_length to None to pad to the maximal input size of the model (e.g. 512 for Bert).\n",
            "  FutureWarning,\n"
          ]
        }
      ]
    },
    {
      "cell_type": "code",
      "metadata": {
        "colab": {
          "base_uri": "https://localhost:8080/",
          "height": 235
        },
        "id": "gm8JwlN_xt4B",
        "outputId": "9ed682c7-2128-4992-9fcb-baaf53d0c3fc"
      },
      "source": [
        "df_vax.head()\n",
        "#vax_tweets.head()"
      ],
      "execution_count": 62,
      "outputs": [
        {
          "output_type": "execute_result",
          "data": {
            "text/html": [
              "<div>\n",
              "<style scoped>\n",
              "    .dataframe tbody tr th:only-of-type {\n",
              "        vertical-align: middle;\n",
              "    }\n",
              "\n",
              "    .dataframe tbody tr th {\n",
              "        vertical-align: top;\n",
              "    }\n",
              "\n",
              "    .dataframe thead th {\n",
              "        text-align: right;\n",
              "    }\n",
              "</style>\n",
              "<table border=\"1\" class=\"dataframe\">\n",
              "  <thead>\n",
              "    <tr style=\"text-align: right;\">\n",
              "      <th></th>\n",
              "      <th>date</th>\n",
              "      <th>Label</th>\n",
              "      <th>tweet</th>\n",
              "      <th>language</th>\n",
              "      <th>hashtags</th>\n",
              "      <th>username</th>\n",
              "    </tr>\n",
              "    <tr>\n",
              "      <th>id</th>\n",
              "      <th></th>\n",
              "      <th></th>\n",
              "      <th></th>\n",
              "      <th></th>\n",
              "      <th></th>\n",
              "      <th></th>\n",
              "    </tr>\n",
              "  </thead>\n",
              "  <tbody>\n",
              "    <tr>\n",
              "      <th>1.42000e+18</th>\n",
              "      <td>7/27/2021 19:18</td>\n",
              "      <td>1</td>\n",
              "      <td>My nerdy nerd got vaccinated Ã Å Â Å Ã Å Â Â Ã...</td>\n",
              "      <td>en</td>\n",
              "      <td>['cucukmyaz', 'jkjav']</td>\n",
              "      <td>akashah</td>\n",
              "    </tr>\n",
              "    <tr>\n",
              "      <th>1.42000e+18</th>\n",
              "      <td>7/27/2021 16:08</td>\n",
              "      <td>1</td>\n",
              "      <td>Ready for 2nd dose of vaccine tomorrow CucukMyAZ</td>\n",
              "      <td>en</td>\n",
              "      <td>['cucukmyaz']</td>\n",
              "      <td>qeels88</td>\n",
              "    </tr>\n",
              "    <tr>\n",
              "      <th>1.42000e+18</th>\n",
              "      <td>7/27/2021 14:48</td>\n",
              "      <td>1</td>\n",
              "      <td>Done CucukMyAZ HartalDoktorKontrak</td>\n",
              "      <td>en</td>\n",
              "      <td>['cucukmyaz', 'hartaldoktorkontrak']</td>\n",
              "      <td>nfamohdnasir</td>\n",
              "    </tr>\n",
              "    <tr>\n",
              "      <th>1.42000e+18</th>\n",
              "      <td>7/27/2021 14:08</td>\n",
              "      <td>1</td>\n",
              "      <td>Protection installed FULLY vaccinated Thank yo...</td>\n",
              "      <td>en</td>\n",
              "      <td>['cucukmyaz']</td>\n",
              "      <td>ezypepper</td>\n",
              "    </tr>\n",
              "    <tr>\n",
              "      <th>1.42000e+18</th>\n",
              "      <td>7/27/2021 13:46</td>\n",
              "      <td>1</td>\n",
              "      <td>CucukMyAZ 2nd dose done</td>\n",
              "      <td>en</td>\n",
              "      <td>['cucukmyaz']</td>\n",
              "      <td>hadiharhar</td>\n",
              "    </tr>\n",
              "  </tbody>\n",
              "</table>\n",
              "</div>"
            ],
            "text/plain": [
              "                        date  ...      username\n",
              "id                            ...              \n",
              "1.42000e+18  7/27/2021 19:18  ...       akashah\n",
              "1.42000e+18  7/27/2021 16:08  ...       qeels88\n",
              "1.42000e+18  7/27/2021 14:48  ...  nfamohdnasir\n",
              "1.42000e+18  7/27/2021 14:08  ...     ezypepper\n",
              "1.42000e+18  7/27/2021 13:46  ...    hadiharhar\n",
              "\n",
              "[5 rows x 6 columns]"
            ]
          },
          "metadata": {},
          "execution_count": 62
        }
      ]
    },
    {
      "cell_type": "code",
      "metadata": {
        "id": "wyDmhhDCmXvn"
      },
      "source": [
        "vax_dataset= TensorDataset(input_ids, attention_masks, labels) ## add labelss\n",
        "\n",
        "batch_size = 32\n",
        "\n",
        "vax_dataloader = DataLoader(\n",
        "            vax_dataset,  \n",
        "            sampler = SequentialSampler(vax_tweets),     #Sequential Sampling\n",
        "            batch_size = batch_size \n",
        "        )"
      ],
      "execution_count": 63,
      "outputs": []
    },
    {
      "cell_type": "code",
      "metadata": {
        "id": "DNW2aI2SVc6v"
      },
      "source": [
        "# Create the DataLoader.\n",
        "#prediction_data = TensorDataset(input_ids, attention_masks, labels)\n",
        "#prediction_sampler = SequentialSampler(prediction_data)\n",
        "#prediction_dataloader = DataLoader(prediction_data, sampler=prediction_sampler, batch_size=batch_size)"
      ],
      "execution_count": null,
      "outputs": []
    },
    {
      "cell_type": "markdown",
      "metadata": {
        "id": "STSnjMtHmagZ"
      },
      "source": [
        "##prediction\n"
      ]
    },
    {
      "cell_type": "code",
      "metadata": {
        "id": "gwqI7fjjmdIU",
        "colab": {
          "base_uri": "https://localhost:8080/"
        },
        "outputId": "cad547a0-9273-4947-abc1-7ee3793245c4"
      },
      "source": [
        "print('Predicting labels for {:,} vaccine tweets...'.format(len(input_ids)))\n",
        "\n",
        "model.eval()\n",
        "\n",
        "predictions, true_labels = [], []\n",
        "\n",
        "for batch in vax_dataloader:\n",
        " \n",
        "  batch = tuple(t.to(device) for t in batch)\n",
        "  \n",
        "  #b_input_ids, b_input_mask = batch\n",
        "\n",
        "  b_input_ids, b_input_mask, b_labels = batch\n",
        "\n",
        "\n",
        "  with torch.no_grad():\n",
        "\n",
        "      result = model(b_input_ids, \n",
        "                     token_type_ids=None, \n",
        "                     attention_mask=b_input_mask,\n",
        "                     return_dict=True)\n",
        "\n",
        "  logits = result.logits\n",
        "\n",
        "  logits = logits.detach().cpu().numpy()\n",
        "  label_ids = b_labels.to('cpu').numpy() ## test\n",
        "  \n",
        "  logits=np.argmax(logits,axis=1)\n",
        "  for i in range(len(logits)):\n",
        "    predictions.append(logits[i])\n",
        "    true_labels.append(label_ids[i])\n",
        "\n",
        "  \n",
        "print('    DONE.')\n"
      ],
      "execution_count": 64,
      "outputs": [
        {
          "output_type": "stream",
          "name": "stdout",
          "text": [
            "Predicting labels for 10,388 vaccine tweets...\n",
            "    DONE.\n"
          ]
        }
      ]
    },
    {
      "cell_type": "code",
      "metadata": {
        "id": "ZUnaiTMvyPv9"
      },
      "source": [
        "#predictions = []\n",
        "#for x in model_outputs:\n",
        " #   predictions.append(np.argmax(x))\n",
        "\n",
        "#print('f1 score:', f1_score(eval_df['label'], predictions,average='micro'))\n",
        "\n",
        "#target_names = ['class 0', 'class 1', 'class 2']\n",
        "\n",
        "#from sklearn.metrics import classification_report\n",
        "#print(classification_report(val_dataset, predictions))#,sorted(possible_labels)))#,target_names=sorted(df['label'].unique())))\n"
      ],
      "execution_count": null,
      "outputs": []
    },
    {
      "cell_type": "code",
      "metadata": {
        "id": "dOXrhnV6pN-C"
      },
      "source": [
        "df_vax['Sentiment'] = predictions\n",
        "df_vax=df_vax.dropna()      #drops the null values"
      ],
      "execution_count": 65,
      "outputs": []
    },
    {
      "cell_type": "code",
      "metadata": {
        "colab": {
          "base_uri": "https://localhost:8080/",
          "height": 450
        },
        "id": "KjHz-PEipR-f",
        "outputId": "8f8e8cc5-239e-4e2a-8f8c-41eadc0e8676"
      },
      "source": [
        "df_vax.head(100)"
      ],
      "execution_count": 66,
      "outputs": [
        {
          "output_type": "execute_result",
          "data": {
            "text/html": [
              "<div>\n",
              "<style scoped>\n",
              "    .dataframe tbody tr th:only-of-type {\n",
              "        vertical-align: middle;\n",
              "    }\n",
              "\n",
              "    .dataframe tbody tr th {\n",
              "        vertical-align: top;\n",
              "    }\n",
              "\n",
              "    .dataframe thead th {\n",
              "        text-align: right;\n",
              "    }\n",
              "</style>\n",
              "<table border=\"1\" class=\"dataframe\">\n",
              "  <thead>\n",
              "    <tr style=\"text-align: right;\">\n",
              "      <th></th>\n",
              "      <th>date</th>\n",
              "      <th>Label</th>\n",
              "      <th>tweet</th>\n",
              "      <th>language</th>\n",
              "      <th>hashtags</th>\n",
              "      <th>username</th>\n",
              "      <th>Sentiment</th>\n",
              "    </tr>\n",
              "    <tr>\n",
              "      <th>id</th>\n",
              "      <th></th>\n",
              "      <th></th>\n",
              "      <th></th>\n",
              "      <th></th>\n",
              "      <th></th>\n",
              "      <th></th>\n",
              "      <th></th>\n",
              "    </tr>\n",
              "  </thead>\n",
              "  <tbody>\n",
              "    <tr>\n",
              "      <th>1.42000e+18</th>\n",
              "      <td>7/27/2021 19:18</td>\n",
              "      <td>1</td>\n",
              "      <td>My nerdy nerd got vaccinated Ã Å Â Å Ã Å Â Â Ã...</td>\n",
              "      <td>en</td>\n",
              "      <td>['cucukmyaz', 'jkjav']</td>\n",
              "      <td>akashah</td>\n",
              "      <td>1</td>\n",
              "    </tr>\n",
              "    <tr>\n",
              "      <th>1.42000e+18</th>\n",
              "      <td>7/27/2021 16:08</td>\n",
              "      <td>1</td>\n",
              "      <td>Ready for 2nd dose of vaccine tomorrow CucukMyAZ</td>\n",
              "      <td>en</td>\n",
              "      <td>['cucukmyaz']</td>\n",
              "      <td>qeels88</td>\n",
              "      <td>1</td>\n",
              "    </tr>\n",
              "    <tr>\n",
              "      <th>1.42000e+18</th>\n",
              "      <td>7/27/2021 14:48</td>\n",
              "      <td>1</td>\n",
              "      <td>Done CucukMyAZ HartalDoktorKontrak</td>\n",
              "      <td>en</td>\n",
              "      <td>['cucukmyaz', 'hartaldoktorkontrak']</td>\n",
              "      <td>nfamohdnasir</td>\n",
              "      <td>1</td>\n",
              "    </tr>\n",
              "    <tr>\n",
              "      <th>1.42000e+18</th>\n",
              "      <td>7/27/2021 14:08</td>\n",
              "      <td>1</td>\n",
              "      <td>Protection installed FULLY vaccinated Thank yo...</td>\n",
              "      <td>en</td>\n",
              "      <td>['cucukmyaz']</td>\n",
              "      <td>ezypepper</td>\n",
              "      <td>1</td>\n",
              "    </tr>\n",
              "    <tr>\n",
              "      <th>1.42000e+18</th>\n",
              "      <td>7/27/2021 13:46</td>\n",
              "      <td>1</td>\n",
              "      <td>CucukMyAZ 2nd dose done</td>\n",
              "      <td>en</td>\n",
              "      <td>['cucukmyaz']</td>\n",
              "      <td>hadiharhar</td>\n",
              "      <td>1</td>\n",
              "    </tr>\n",
              "    <tr>\n",
              "      <th>...</th>\n",
              "      <td>...</td>\n",
              "      <td>...</td>\n",
              "      <td>...</td>\n",
              "      <td>...</td>\n",
              "      <td>...</td>\n",
              "      <td>...</td>\n",
              "      <td>...</td>\n",
              "    </tr>\n",
              "    <tr>\n",
              "      <th>1.42000e+18</th>\n",
              "      <td>7/26/2021 7:27</td>\n",
              "      <td>2</td>\n",
              "      <td>CucukMyAZ update 20hours in Sofelt like shit w...</td>\n",
              "      <td>en</td>\n",
              "      <td>['cucukmyaz']</td>\n",
              "      <td>Zukidesu1</td>\n",
              "      <td>2</td>\n",
              "    </tr>\n",
              "    <tr>\n",
              "      <th>1.42000e+18</th>\n",
              "      <td>7/26/2021 6:10</td>\n",
              "      <td>0</td>\n",
              "      <td>Why does cucukMYAZ sounds familiar Oh wait</td>\n",
              "      <td>en</td>\n",
              "      <td>['cucukmyaz']</td>\n",
              "      <td>hafizuddinsw</td>\n",
              "      <td>0</td>\n",
              "    </tr>\n",
              "    <tr>\n",
              "      <th>1.42000e+18</th>\n",
              "      <td>7/26/2021 6:00</td>\n",
              "      <td>1</td>\n",
              "      <td>Ã Å â â AstraZeneca Completed My Second Dose C...</td>\n",
              "      <td>en</td>\n",
              "      <td>['cucukmyaz', 'astrazeneca', 'covid_19']</td>\n",
              "      <td>robert_nch</td>\n",
              "      <td>1</td>\n",
              "    </tr>\n",
              "    <tr>\n",
              "      <th>1.42000e+18</th>\n",
              "      <td>7/26/2021 5:46</td>\n",
              "      <td>1</td>\n",
              "      <td>My dad took this picture and it turns out grea...</td>\n",
              "      <td>en</td>\n",
              "      <td>['cucukmyaz']</td>\n",
              "      <td>athiliya</td>\n",
              "      <td>1</td>\n",
              "    </tr>\n",
              "    <tr>\n",
              "      <th>1.42000e+18</th>\n",
              "      <td>7/26/2021 5:33</td>\n",
              "      <td>2</td>\n",
              "      <td>Im deaddeadass cucukMYAZ CucukMySinovac MySeja...</td>\n",
              "      <td>en</td>\n",
              "      <td>['cucukmyaz', 'cucukmysinovac', 'mysejahtera']</td>\n",
              "      <td>Akramlolo</td>\n",
              "      <td>2</td>\n",
              "    </tr>\n",
              "  </tbody>\n",
              "</table>\n",
              "<p>100 rows × 7 columns</p>\n",
              "</div>"
            ],
            "text/plain": [
              "                        date  Label  ...      username Sentiment\n",
              "id                                   ...                        \n",
              "1.42000e+18  7/27/2021 19:18      1  ...       akashah         1\n",
              "1.42000e+18  7/27/2021 16:08      1  ...       qeels88         1\n",
              "1.42000e+18  7/27/2021 14:48      1  ...  nfamohdnasir         1\n",
              "1.42000e+18  7/27/2021 14:08      1  ...     ezypepper         1\n",
              "1.42000e+18  7/27/2021 13:46      1  ...    hadiharhar         1\n",
              "...                      ...    ...  ...           ...       ...\n",
              "1.42000e+18   7/26/2021 7:27      2  ...     Zukidesu1         2\n",
              "1.42000e+18   7/26/2021 6:10      0  ...  hafizuddinsw         0\n",
              "1.42000e+18   7/26/2021 6:00      1  ...    robert_nch         1\n",
              "1.42000e+18   7/26/2021 5:46      1  ...      athiliya         1\n",
              "1.42000e+18   7/26/2021 5:33      2  ...     Akramlolo         2\n",
              "\n",
              "[100 rows x 7 columns]"
            ]
          },
          "metadata": {},
          "execution_count": 66
        }
      ]
    },
    {
      "cell_type": "code",
      "metadata": {
        "colab": {
          "base_uri": "https://localhost:8080/"
        },
        "id": "FSAHtw5JPWHw",
        "outputId": "ecfe452c-ee97-427f-85cb-05cfb883d0fa"
      },
      "source": [
        "print(df_vax.dtypes)"
      ],
      "execution_count": 67,
      "outputs": [
        {
          "output_type": "stream",
          "name": "stdout",
          "text": [
            "date         object\n",
            "Label         int64\n",
            "tweet        object\n",
            "language     object\n",
            "hashtags     object\n",
            "username     object\n",
            "Sentiment     int64\n",
            "dtype: object\n"
          ]
        }
      ]
    },
    {
      "cell_type": "code",
      "metadata": {
        "id": "mMhQuilPpiNw"
      },
      "source": [
        "df_vax['Sentiment']=df_vax['Sentiment'].map({0:'neutral',1:'positive',2:'negative'}) ##prediction from BERT\n",
        "#df_vax['Sentiment']=df_vax['Sentiment'].map({0:'neutral',1:'positive',-1:'negative'}) ##prediction from BERT"
      ],
      "execution_count": 68,
      "outputs": []
    },
    {
      "cell_type": "code",
      "metadata": {
        "id": "83Gmw138qFY0",
        "colab": {
          "base_uri": "https://localhost:8080/",
          "height": 456
        },
        "outputId": "f242b4e9-455c-4468-9aeb-36a91cdf38c8"
      },
      "source": [
        "df_vax['Sentiment'].value_counts(normalize=True).plot.bar()"
      ],
      "execution_count": 69,
      "outputs": [
        {
          "output_type": "execute_result",
          "data": {
            "text/plain": [
              "<matplotlib.axes._subplots.AxesSubplot at 0x7fa289feec90>"
            ]
          },
          "metadata": {},
          "execution_count": 69
        },
        {
          "output_type": "display_data",
          "data": {
            "image/png": "[encoded data removed]",
            "text/plain": [
              "<Figure size 864x432 with 1 Axes>"
            ]
          },
          "metadata": {}
        }
      ]
    },
    {
      "cell_type": "code",
      "metadata": {
        "id": "bJjdK60p6luV"
      },
      "source": [
        "#y_review_texts, y_pred, y_pred_probs, y_test = predictions"
      ],
      "execution_count": null,
      "outputs": []
    },
    {
      "cell_type": "code",
      "metadata": {
        "id": "FUVG0nHja_DU"
      },
      "source": [
        "#print('Positive samples: %d of %d (%.2f%%)' % (df_vax.Sentiment.sum(), len(df_vax.Sentiment), (df_vax.Sentiment.sum() / len(df_vax.Sentiment) * 100.0)))\n",
        "\n",
        "#print('Positive samples: %d of %d (%.2f%%)' % (df_vax.Label.sum(), len(df_vax.Label), (df_vax.Label.sum() / len(df_vax.Label) * 100.0)))\n",
        "#print('Positive samples from BERT: %d of %d (%.2f%%)' % (df_vax.Sentiment.sum(), len(df_vax.Sentiment), (df_vax.Sentiment.sum() / len(df_vax.Sentiment) * 100.0)))\n"
      ],
      "execution_count": null,
      "outputs": []
    },
    {
      "cell_type": "code",
      "metadata": {
        "colab": {
          "base_uri": "https://localhost:8080/"
        },
        "id": "k2r7js0fQQEV",
        "outputId": "9d36f84c-c521-4696-b9ae-d9e24551c3b0"
      },
      "source": [
        "#from sklearn.metrics import matthews_corrcoef\n",
        "\n",
        "#matthews_set = []\n",
        "#pred_labels_i = np.argmax(predictions, axis=0)\n",
        "# Evaluate each test batch using Matthew's correlation coefficient\n",
        "print('Calculating Matthews Corr. Coef. for each batch...')\n",
        "\n",
        "# For each input batch...\n",
        "#for i in range(len(true_labels)):\n",
        " # pred_labels_i = np.argmax(predictions[i], axis=0).flatten()\n",
        "  \n",
        "  # The predictions for this batch are a 2-column ndarray (one column for \"0\" \n",
        "  # and one column for \"1\"). Pick the label with the highest value and turn this\n",
        "  # in to a list of 0s and 1s.\n",
        "#  pred_labels_i = np.argmax(predictions[i], axis=1).flatten()\n",
        "  \n",
        "  # Calculate and store the coef for this batch.  \n",
        "  #matthews = matthews_corrcoef(true_labels[i], pred_labels_i)                \n",
        "  #matthews_set.append(matthews)"
      ],
      "execution_count": null,
      "outputs": [
        {
          "output_type": "stream",
          "text": [
            "Calculating Matthews Corr. Coef. for each batch...\n"
          ],
          "name": "stdout"
        }
      ]
    },
    {
      "cell_type": "code",
      "metadata": {
        "colab": {
          "base_uri": "https://localhost:8080/"
        },
        "id": "vt3QDfFiaOOL",
        "outputId": "b4c954a6-9ad9-4cfb-d9dd-63e7da494b6f"
      },
      "source": [
        "result"
      ],
      "execution_count": null,
      "outputs": [
        {
          "output_type": "execute_result",
          "data": {
            "text/plain": [
              "SequenceClassifierOutput([('logits', tensor([[-0.2674, -0.8184,  0.4559],\n",
              "                                   [-0.7842,  1.3792, -0.5698],\n",
              "                                   [-1.5297,  2.7666, -1.5074],\n",
              "                                   [-0.4407, -0.3871,  0.1517],\n",
              "                                   [-1.0540,  2.0816, -1.1929],\n",
              "                                   [-1.7738,  2.9677, -1.6756],\n",
              "                                   [-1.3623,  2.7804, -1.6604],\n",
              "                                   [-1.6122,  3.2082, -1.7875],\n",
              "                                   [-1.3350,  2.8432, -1.6577],\n",
              "                                   [-1.8178,  3.2123, -1.7732],\n",
              "                                   [-1.4063,  2.8757, -1.7197],\n",
              "                                   [-1.6543,  3.1688, -1.8200],\n",
              "                                   [-1.6060,  2.9549, -1.7262],\n",
              "                                   [-1.1232,  1.9165, -0.9713],\n",
              "                                   [-0.2123, -0.8349,  0.3371],\n",
              "                                   [-1.5973,  3.2511, -1.8810],\n",
              "                                   [-1.6386,  3.2054, -1.8161],\n",
              "                                   [-1.4847,  2.8593, -1.6127],\n",
              "                                   [-1.0027,  1.8613, -0.9898],\n",
              "                                   [-1.2720,  2.9677, -1.8917],\n",
              "                                   [ 1.5068, -0.2757, -0.6415],\n",
              "                                   [-1.6521,  2.9602, -1.6209],\n",
              "                                   [-1.6674,  3.2372, -1.8949],\n",
              "                                   [ 1.4734,  0.0379, -0.8419],\n",
              "                                   [-1.4959,  2.8703, -1.7499],\n",
              "                                   [-1.5241,  2.7698, -1.5414]], device='cuda:0'))])"
            ]
          },
          "metadata": {
            "tags": []
          },
          "execution_count": 75
        }
      ]
    },
    {
      "cell_type": "code",
      "metadata": {
        "id": "OwAlvdPCXPFM"
      },
      "source": [
        " #logits=np.argmax(logits,axis=1)\n",
        "  #for i in range(len(logits)):\n",
        "   # predictions.append(logits[i])\n",
        "    #true_labels.append(label_ids[i])"
      ],
      "execution_count": null,
      "outputs": []
    }
  ]
}